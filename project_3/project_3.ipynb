{
 "cells": [
  {
   "cell_type": "markdown",
   "metadata": {},
   "source": [
    "# Project 3: Web APIs & Classification"
   ]
  },
  {
   "cell_type": "markdown",
   "metadata": {},
   "source": [
    "### Contents\n",
    "\n",
    "- [Configurations and Libraries](#Configurations-and-Libraries)\n",
    "- [Functions](#Functions)\n",
    "\n",
    "\n",
    "- [Scape or Import Data](#Scape-or-Import-Data)\n",
    "- [Inspect and Clean Data](#Inspect-and-Clean-Data)\n",
    "- [Output Clean Data](#Output-Clean-Data)\n",
    "\n",
    "\n",
    "- [EDA](#EDA)\n",
    "\n",
    "\n",
    "- [Create Feature Matrix and Target](#Create-Feature-Matrix-and-Target)\n",
    "- [Logistic Regression Model](#Logistic-Regression-Model)\n",
    "- [Bayes Classifer](#Bayes-Classifer)\n",
    "- [Models by Pipeline](#Models-by-Pipeline)\n",
    "- [Models by GridSearch](#Models-by-GridSearch)\n",
    "\n",
    "\n",
    "- [Sentiment Analysis](#Sentiment-Analysis)\n",
    "- [Descriptive and Inferential Statistics](#Descriptive-and-Inferential-Statistics)\n",
    "\n",
    "\n",
    "- [Conclusion and Recommendations](#Conclusion-and-Recommendations)"
   ]
  },
  {
   "cell_type": "markdown",
   "metadata": {},
   "source": [
    "### Configurations and Libraries"
   ]
  },
  {
   "cell_type": "code",
   "execution_count": 1,
   "metadata": {},
   "outputs": [],
   "source": [
    "# user configuration\n",
    "\n",
    "# True: scape data from website -> save as json files\n",
    "# False: load json files\n",
    "scape_data = False\n",
    "\n",
    "# scape data for subreddits[0] if scape_data=True\n",
    "scape_index = 0\n",
    "# scape data for subreddits[1] if scape_data=True\n",
    "#scape_index = 1\n",
    "\n",
    "# Number of Reddit API requests\n",
    "# Note: 25 posts are scaped per request.\n",
    "num_requests = 50\n",
    "\n",
    "# Number of Posts used (per Subreddit) to build models\n",
    "posts_limit = 900\n",
    "\n",
    "# Subreddits List\n",
    "subreddits = ['boardgames','mobilegames']\n",
    "\n",
    "# Base URL for scaping\n",
    "url = \"https://www.reddit.com/r/\"\n",
    "\n",
    "# User Agent Settings\n",
    "headers = {'User-agent':'Bleep blorp bot 0.1'}"
   ]
  },
  {
   "cell_type": "code",
   "execution_count": 2,
   "metadata": {},
   "outputs": [],
   "source": [
    "# import libraries\n",
    "\n",
    "# maths\n",
    "import scipy.stats as stats\n",
    "import numpy as np\n",
    "import pandas as pd\n",
    "#from pandas.api.types import is_numeric_dtype\n",
    "\n",
    "# visual\n",
    "import seaborn as sns\n",
    "import matplotlib.pyplot as plt\n",
    "from matplotlib_venn import venn2\n",
    "%matplotlib inline\n",
    "\n",
    "# modelling\n",
    "from sklearn.linear_model import LinearRegression,LogisticRegression\n",
    "from sklearn import linear_model\n",
    "from sklearn.model_selection import train_test_split,cross_val_score,GridSearchCV\n",
    "from sklearn.preprocessing import StandardScaler,PolynomialFeatures\n",
    "from sklearn.linear_model import Ridge\n",
    "from sklearn.metrics import r2_score,mean_squared_error,confusion_matrix,accuracy_score\n",
    "from sklearn.pipeline import make_pipeline,Pipeline\n",
    "\n",
    "# nlp\n",
    "from sklearn.feature_extraction.text import CountVectorizer,HashingVectorizer,TfidfVectorizer\n",
    "from sklearn.naive_bayes import MultinomialNB\n",
    "from nltk.stem import PorterStemmer,WordNetLemmatizer\n",
    "from nltk.tokenize import sent_tokenize, word_tokenize\n",
    "from nltk.corpus import stopwords\n",
    "import spacy\n",
    "from spacy.tokens import Doc\n",
    "from nltk.sentiment.vader import SentimentIntensityAnalyzer\n",
    "\n",
    "# web\n",
    "import requests\n",
    "import json\n",
    "\n",
    "# others\n",
    "import time\n",
    "import datetime as dt\n",
    "import re\n",
    "import os"
   ]
  },
  {
   "cell_type": "code",
   "execution_count": 3,
   "metadata": {},
   "outputs": [],
   "source": [
    "# file paths\n",
    "\n",
    "input_path = '../data/input/'\n",
    "output_path = '../data/output/'"
   ]
  },
  {
   "cell_type": "markdown",
   "metadata": {},
   "source": [
    "### Functions"
   ]
  },
  {
   "cell_type": "code",
   "execution_count": 4,
   "metadata": {},
   "outputs": [],
   "source": [
    "# output scaped data to json files\n",
    "\n",
    "def write_json_files(data):    \n",
    "    \n",
    "    timestamp = dt.datetime.now()\n",
    "    timestamp = timestamp.strftime(\" %Y_%m_%d %H_%M_%S\")\n",
    "    \n",
    "    filepath = input_path + subreddits[scape_index] + '/'\n",
    "    filename = subreddits[scape_index] + timestamp + '.json'\n",
    "    \n",
    "    if not os.path.exists(filepath):\n",
    "        os.makedirs(filepath)\n",
    "    \n",
    "    file = open(filepath + filename,\"w+\")    \n",
    "    json.dump(data,file)\n",
    "    \n",
    "    print('created',filename)"
   ]
  },
  {
   "cell_type": "code",
   "execution_count": 5,
   "metadata": {},
   "outputs": [],
   "source": [
    "# create posts list from json files\n",
    "\n",
    "def read_json_files(subreddit):   \n",
    "    \n",
    "    files = []    \n",
    "    filepath = input_path + subreddit\n",
    "\n",
    "    # r=root, d=directories, f = files\n",
    "    for r, d, f in os.walk(filepath):\n",
    "        for file in f:\n",
    "            if '.json' in file:\n",
    "                files.append(os.path.join(r, file))\n",
    "                \n",
    "    posts = []\n",
    "\n",
    "    # load in newer jsons first\n",
    "    for f in files[::-1]:\n",
    "        print(f)\n",
    "        file_data = open(f).read()\n",
    "        json_data = json.loads(file_data)\n",
    "\n",
    "        posts.extend(json_data['data']['children'])\n",
    "        after = json_data['data']['after']\n",
    "        \n",
    "    return posts"
   ]
  },
  {
   "cell_type": "code",
   "execution_count": 6,
   "metadata": {},
   "outputs": [],
   "source": [
    "# created df with posts\n",
    "\n",
    "def create_df(posts,df):\n",
    "\n",
    "    for idx,p in enumerate(posts):\n",
    "\n",
    "        p_keys = p['data'].keys()\n",
    "\n",
    "        for col in cols:\n",
    "\n",
    "            if col in p_keys:\n",
    "                df.at[idx,col] = p['data'][col]\n",
    "            else:\n",
    "                df.at[idx,col] = np.nan\n",
    "                print(idx,col,'nan')\n",
    "                \n",
    "    return df"
   ]
  },
  {
   "cell_type": "code",
   "execution_count": 7,
   "metadata": {},
   "outputs": [],
   "source": [
    "# clean data using re library and WordNetLemmatizer\n",
    "\n",
    "# Reference: https://towardsdatascience.com/the-real-world-as-seen-on-twitter-sentiment-analysis-part-one-5ac2d06b63fb\n",
    "\n",
    "wnl = WordNetLemmatizer()\n",
    "\n",
    "def clean_text(text):\n",
    "    \n",
    "    #print(text)    \n",
    "    text = text.lower() # To lowercase    \n",
    "    text = re.sub(r'\\&\\w*;', '', text) # Remove HTML special entities (e.g. &amp;)        \n",
    "    text = re.sub(r'\\s\\s+', ' ', text) # Remove whitespace (including new line characters)        \n",
    "    text = re.sub(r'https?:\\/\\/.*\\/\\w*', '', text) # Remove hyperlinks \n",
    "    #print(text)\n",
    "    \n",
    "    words = text.split()\n",
    "    #print(words)\n",
    "    \n",
    "    words_2 = []\n",
    "\n",
    "    for word in words: \n",
    "        word_2 = wnl.lemmatize(word)\n",
    "        #if word != word_2:\n",
    "            #print(word,word_2)\n",
    "        words_2.append(word_2)      \n",
    "\n",
    "    output = ' '.join(words_2)\n",
    "    #print(output)\n",
    "    return output "
   ]
  },
  {
   "cell_type": "code",
   "execution_count": 8,
   "metadata": {},
   "outputs": [],
   "source": [
    "# for sentiment analysis\n",
    "\n",
    "sentiment_analyzer = SentimentIntensityAnalyzer()\n",
    "\n",
    "def polarity_scores(doc):\n",
    "    return sentiment_analyzer.polarity_scores(doc.text)\n",
    "\n",
    "Doc.set_extension('polarity_scores', getter=polarity_scores) \n",
    "nlp = spacy.load('en')"
   ]
  },
  {
   "cell_type": "markdown",
   "metadata": {},
   "source": [
    "### Scape or Import Data"
   ]
  },
  {
   "cell_type": "code",
   "execution_count": 9,
   "metadata": {},
   "outputs": [],
   "source": [
    "# get json_data with multiple requests\n",
    "\n",
    "if scape_data == True:\n",
    "\n",
    "    posts = []\n",
    "    after = None\n",
    "\n",
    "    for i in range(1,num_requests+1):\n",
    "\n",
    "        if after == None:\n",
    "            params = {}\n",
    "        else:\n",
    "            params = {'after':after}\n",
    "\n",
    "        json_url = url + subreddits[scape_index] + '.json'\n",
    "        response = requests.get(json_url,params=params,headers=headers)\n",
    "\n",
    "        if response.status_code == 200:       \n",
    "\n",
    "            print('process request',i)\n",
    "\n",
    "            json_data = response.json()\n",
    "            posts.extend(json_data['data']['children'])\n",
    "            after = json_data['data']['after']\n",
    "\n",
    "            # save scaped data to files\n",
    "            write_json_files(json_data)        \n",
    "\n",
    "        else:\n",
    "            print(response.status_code)\n",
    "            break\n",
    "\n",
    "        time.sleep(2)"
   ]
  },
  {
   "cell_type": "code",
   "execution_count": 10,
   "metadata": {},
   "outputs": [
    {
     "name": "stdout",
     "output_type": "stream",
     "text": [
      "../data/input/boardgames\\boardgames 2019_07_19 21_42_59.json\n",
      "../data/input/boardgames\\boardgames 2019_07_19 21_42_56.json\n",
      "../data/input/boardgames\\boardgames 2019_07_19 21_42_53.json\n",
      "../data/input/boardgames\\boardgames 2019_07_19 21_42_50.json\n",
      "../data/input/boardgames\\boardgames 2019_07_19 21_42_48.json\n",
      "../data/input/boardgames\\boardgames 2019_07_19 21_42_45.json\n",
      "../data/input/boardgames\\boardgames 2019_07_19 21_42_42.json\n",
      "../data/input/boardgames\\boardgames 2019_07_19 21_42_39.json\n",
      "../data/input/boardgames\\boardgames 2019_07_19 21_42_36.json\n",
      "../data/input/boardgames\\boardgames 2019_07_19 21_42_32.json\n",
      "../data/input/boardgames\\boardgames 2019_07_19 21_42_29.json\n",
      "../data/input/boardgames\\boardgames 2019_07_19 21_42_27.json\n",
      "../data/input/boardgames\\boardgames 2019_07_19 21_42_24.json\n",
      "../data/input/boardgames\\boardgames 2019_07_19 21_42_21.json\n",
      "../data/input/boardgames\\boardgames 2019_07_19 21_42_18.json\n",
      "../data/input/boardgames\\boardgames 2019_07_19 21_42_15.json\n",
      "../data/input/boardgames\\boardgames 2019_07_19 21_42_13.json\n",
      "../data/input/boardgames\\boardgames 2019_07_19 21_42_10.json\n",
      "../data/input/boardgames\\boardgames 2019_07_19 21_42_07.json\n",
      "../data/input/boardgames\\boardgames 2019_07_19 21_42_04.json\n",
      "../data/input/boardgames\\boardgames 2019_07_19 21_42_01.json\n",
      "../data/input/boardgames\\boardgames 2019_07_19 21_41_58.json\n",
      "../data/input/boardgames\\boardgames 2019_07_19 21_41_55.json\n",
      "../data/input/boardgames\\boardgames 2019_07_19 21_41_52.json\n",
      "../data/input/boardgames\\boardgames 2019_07_19 21_41_49.json\n",
      "../data/input/boardgames\\boardgames 2019_07_19 21_41_47.json\n",
      "../data/input/boardgames\\boardgames 2019_07_19 21_41_43.json\n",
      "../data/input/boardgames\\boardgames 2019_07_19 21_41_40.json\n",
      "../data/input/boardgames\\boardgames 2019_07_19 21_41_37.json\n",
      "../data/input/boardgames\\boardgames 2019_07_19 21_41_34.json\n",
      "../data/input/boardgames\\boardgames 2019_07_19 21_41_31.json\n",
      "../data/input/boardgames\\boardgames 2019_07_19 21_41_28.json\n",
      "../data/input/boardgames\\boardgames 2019_07_19 21_41_26.json\n",
      "../data/input/boardgames\\boardgames 2019_07_19 21_41_23.json\n",
      "../data/input/boardgames\\boardgames 2019_07_19 21_41_20.json\n",
      "../data/input/boardgames\\boardgames 2019_07_19 21_41_17.json\n",
      "../data/input/boardgames\\boardgames 2019_07_19 21_41_13.json\n",
      "../data/input/boardgames\\boardgames 2019_07_19 21_41_11.json\n",
      "../data/input/boardgames\\boardgames 2019_07_19 21_41_08.json\n",
      "../data/input/boardgames\\boardgames 2019_07_19 21_41_05.json\n",
      "../data/input/boardgames\\boardgames 2019_07_19 21_41_02.json\n",
      "../data/input/boardgames\\boardgames 2019_07_19 21_40_59.json\n",
      "../data/input/boardgames\\boardgames 2019_07_19 21_40_56.json\n",
      "../data/input/boardgames\\boardgames 2019_07_19 21_40_53.json\n",
      "../data/input/boardgames\\boardgames 2019_07_19 21_40_50.json\n",
      "../data/input/boardgames\\boardgames 2019_07_19 21_40_48.json\n",
      "../data/input/boardgames\\boardgames 2019_07_19 21_40_45.json\n",
      "../data/input/boardgames\\boardgames 2019_07_19 21_40_42.json\n",
      "../data/input/boardgames\\boardgames 2019_07_19 21_40_39.json\n",
      "../data/input/boardgames\\boardgames 2019_07_19 21_40_36.json\n",
      "../data/input/boardgames\\boardgames 2019_07_15 21_05_15.json\n",
      "../data/input/boardgames\\boardgames 2019_07_15 21_05_10.json\n",
      "../data/input/boardgames\\boardgames 2019_07_15 21_05_07.json\n",
      "../data/input/boardgames\\boardgames 2019_07_15 21_05_03.json\n",
      "../data/input/boardgames\\boardgames 2019_07_15 21_04_59.json\n",
      "../data/input/boardgames\\boardgames 2019_07_15 21_04_55.json\n",
      "../data/input/boardgames\\boardgames 2019_07_15 21_04_51.json\n",
      "../data/input/boardgames\\boardgames 2019_07_15 21_04_46.json\n",
      "../data/input/boardgames\\boardgames 2019_07_15 21_04_43.json\n",
      "../data/input/boardgames\\boardgames 2019_07_15 21_04_39.json\n",
      "../data/input/boardgames\\boardgames 2019_07_15 21_04_35.json\n",
      "../data/input/boardgames\\boardgames 2019_07_15 21_04_31.json\n",
      "../data/input/boardgames\\boardgames 2019_07_15 21_04_27.json\n",
      "../data/input/boardgames\\boardgames 2019_07_15 21_04_23.json\n",
      "../data/input/boardgames\\boardgames 2019_07_15 21_04_19.json\n",
      "../data/input/boardgames\\boardgames 2019_07_15 21_04_15.json\n",
      "../data/input/boardgames\\boardgames 2019_07_15 21_04_11.json\n",
      "../data/input/boardgames\\boardgames 2019_07_15 21_04_07.json\n",
      "../data/input/boardgames\\boardgames 2019_07_15 21_04_03.json\n",
      "../data/input/boardgames\\boardgames 2019_07_15 21_03_58.json\n",
      "../data/input/boardgames\\boardgames 2019_07_15 21_03_54.json\n",
      "../data/input/boardgames\\boardgames 2019_07_15 21_03_50.json\n",
      "../data/input/boardgames\\boardgames 2019_07_15 21_03_47.json\n",
      "../data/input/boardgames\\boardgames 2019_07_15 21_03_43.json\n",
      "../data/input/boardgames\\boardgames 2019_07_15 21_03_39.json\n",
      "../data/input/boardgames\\boardgames 2019_07_15 21_03_35.json\n",
      "../data/input/boardgames\\boardgames 2019_07_15 21_03_31.json\n",
      "../data/input/boardgames\\boardgames 2019_07_15 21_03_27.json\n",
      "../data/input/boardgames\\boardgames 2019_07_15 21_03_23.json\n",
      "../data/input/boardgames\\boardgames 2019_07_15 21_03_19.json\n",
      "../data/input/boardgames\\boardgames 2019_07_15 21_03_15.json\n",
      "../data/input/boardgames\\boardgames 2019_07_15 21_03_12.json\n",
      "../data/input/boardgames\\boardgames 2019_07_15 21_03_08.json\n",
      "../data/input/boardgames\\boardgames 2019_07_15 21_03_04.json\n",
      "../data/input/boardgames\\boardgames 2019_07_15 21_03_00.json\n",
      "../data/input/boardgames\\boardgames 2019_07_15 21_02_56.json\n",
      "../data/input/boardgames\\boardgames 2019_07_15 21_02_52.json\n",
      "../data/input/boardgames\\boardgames 2019_07_15 21_02_48.json\n",
      "../data/input/boardgames\\boardgames 2019_07_15 21_02_44.json\n",
      "../data/input/boardgames\\boardgames 2019_07_15 21_02_41.json\n",
      "../data/input/mobilegames\\mobilegames 2019_07_19 21_39_51.json\n",
      "../data/input/mobilegames\\mobilegames 2019_07_19 21_39_48.json\n",
      "../data/input/mobilegames\\mobilegames 2019_07_19 21_39_46.json\n",
      "../data/input/mobilegames\\mobilegames 2019_07_19 21_39_44.json\n",
      "../data/input/mobilegames\\mobilegames 2019_07_19 21_39_41.json\n",
      "../data/input/mobilegames\\mobilegames 2019_07_19 21_39_38.json\n",
      "../data/input/mobilegames\\mobilegames 2019_07_19 21_39_36.json\n",
      "../data/input/mobilegames\\mobilegames 2019_07_19 21_39_33.json\n",
      "../data/input/mobilegames\\mobilegames 2019_07_19 21_39_31.json\n",
      "../data/input/mobilegames\\mobilegames 2019_07_19 21_39_28.json\n",
      "../data/input/mobilegames\\mobilegames 2019_07_19 21_39_26.json\n",
      "../data/input/mobilegames\\mobilegames 2019_07_19 21_39_23.json\n",
      "../data/input/mobilegames\\mobilegames 2019_07_19 21_39_21.json\n",
      "../data/input/mobilegames\\mobilegames 2019_07_19 21_39_18.json\n",
      "../data/input/mobilegames\\mobilegames 2019_07_19 21_39_16.json\n",
      "../data/input/mobilegames\\mobilegames 2019_07_19 21_39_13.json\n",
      "../data/input/mobilegames\\mobilegames 2019_07_19 21_39_11.json\n",
      "../data/input/mobilegames\\mobilegames 2019_07_19 21_39_08.json\n",
      "../data/input/mobilegames\\mobilegames 2019_07_19 21_39_06.json\n",
      "../data/input/mobilegames\\mobilegames 2019_07_19 21_39_03.json\n",
      "../data/input/mobilegames\\mobilegames 2019_07_19 21_39_01.json\n",
      "../data/input/mobilegames\\mobilegames 2019_07_19 21_38_58.json\n",
      "../data/input/mobilegames\\mobilegames 2019_07_19 21_38_56.json\n",
      "../data/input/mobilegames\\mobilegames 2019_07_19 21_38_53.json\n",
      "../data/input/mobilegames\\mobilegames 2019_07_19 21_38_50.json\n",
      "../data/input/mobilegames\\mobilegames 2019_07_19 21_38_47.json\n",
      "../data/input/mobilegames\\mobilegames 2019_07_19 21_38_44.json\n",
      "../data/input/mobilegames\\mobilegames 2019_07_19 21_38_42.json\n",
      "../data/input/mobilegames\\mobilegames 2019_07_19 21_38_39.json\n",
      "../data/input/mobilegames\\mobilegames 2019_07_19 21_38_37.json\n",
      "../data/input/mobilegames\\mobilegames 2019_07_19 21_38_34.json\n",
      "../data/input/mobilegames\\mobilegames 2019_07_19 21_38_31.json\n",
      "../data/input/mobilegames\\mobilegames 2019_07_19 21_38_29.json\n",
      "../data/input/mobilegames\\mobilegames 2019_07_19 21_38_26.json\n",
      "../data/input/mobilegames\\mobilegames 2019_07_19 21_38_23.json\n",
      "../data/input/mobilegames\\mobilegames 2019_07_19 21_38_21.json\n",
      "../data/input/mobilegames\\mobilegames 2019_07_19 21_38_18.json\n",
      "../data/input/mobilegames\\mobilegames 2019_07_19 21_38_16.json\n",
      "../data/input/mobilegames\\mobilegames 2019_07_19 21_38_13.json\n",
      "../data/input/mobilegames\\mobilegames 2019_07_19 21_38_11.json\n",
      "../data/input/mobilegames\\mobilegames 2019_07_19 21_38_08.json\n",
      "../data/input/mobilegames\\mobilegames 2019_07_19 21_38_06.json\n"
     ]
    },
    {
     "name": "stdout",
     "output_type": "stream",
     "text": [
      "../data/input/mobilegames\\mobilegames 2019_07_19 21_38_03.json\n",
      "../data/input/mobilegames\\mobilegames 2019_07_19 21_38_01.json\n",
      "../data/input/mobilegames\\mobilegames 2019_07_19 21_37_58.json\n",
      "../data/input/mobilegames\\mobilegames 2019_07_19 21_37_56.json\n",
      "../data/input/mobilegames\\mobilegames 2019_07_19 21_37_53.json\n",
      "../data/input/mobilegames\\mobilegames 2019_07_19 21_37_51.json\n",
      "../data/input/mobilegames\\mobilegames 2019_07_19 21_37_48.json\n",
      "../data/input/mobilegames\\mobilegames 2019_07_19 21_37_46.json\n",
      "../data/input/mobilegames\\mobilegames 2019_07_17 20_17_16.json\n",
      "../data/input/mobilegames\\mobilegames 2019_07_17 20_17_12.json\n",
      "../data/input/mobilegames\\mobilegames 2019_07_17 20_17_09.json\n",
      "../data/input/mobilegames\\mobilegames 2019_07_17 20_17_05.json\n",
      "../data/input/mobilegames\\mobilegames 2019_07_17 20_17_02.json\n",
      "../data/input/mobilegames\\mobilegames 2019_07_17 20_16_58.json\n",
      "../data/input/mobilegames\\mobilegames 2019_07_17 20_16_54.json\n",
      "../data/input/mobilegames\\mobilegames 2019_07_17 20_16_51.json\n",
      "../data/input/mobilegames\\mobilegames 2019_07_17 20_16_47.json\n",
      "../data/input/mobilegames\\mobilegames 2019_07_17 20_16_44.json\n",
      "../data/input/mobilegames\\mobilegames 2019_07_17 20_16_40.json\n",
      "../data/input/mobilegames\\mobilegames 2019_07_17 20_16_36.json\n",
      "../data/input/mobilegames\\mobilegames 2019_07_17 20_16_33.json\n",
      "../data/input/mobilegames\\mobilegames 2019_07_17 20_16_29.json\n",
      "../data/input/mobilegames\\mobilegames 2019_07_17 20_16_26.json\n",
      "../data/input/mobilegames\\mobilegames 2019_07_17 20_16_22.json\n",
      "../data/input/mobilegames\\mobilegames 2019_07_17 20_16_18.json\n",
      "../data/input/mobilegames\\mobilegames 2019_07_17 20_16_15.json\n",
      "../data/input/mobilegames\\mobilegames 2019_07_17 20_16_11.json\n",
      "../data/input/mobilegames\\mobilegames 2019_07_17 20_16_08.json\n",
      "../data/input/mobilegames\\mobilegames 2019_07_17 20_16_04.json\n",
      "../data/input/mobilegames\\mobilegames 2019_07_17 20_16_01.json\n",
      "../data/input/mobilegames\\mobilegames 2019_07_17 20_15_57.json\n",
      "../data/input/mobilegames\\mobilegames 2019_07_17 20_15_53.json\n",
      "../data/input/mobilegames\\mobilegames 2019_07_17 20_15_50.json\n",
      "../data/input/mobilegames\\mobilegames 2019_07_17 20_15_46.json\n",
      "../data/input/mobilegames\\mobilegames 2019_07_17 20_15_42.json\n",
      "../data/input/mobilegames\\mobilegames 2019_07_17 20_15_39.json\n",
      "../data/input/mobilegames\\mobilegames 2019_07_17 20_15_35.json\n",
      "../data/input/mobilegames\\mobilegames 2019_07_17 20_15_32.json\n",
      "../data/input/mobilegames\\mobilegames 2019_07_17 20_15_28.json\n",
      "../data/input/mobilegames\\mobilegames 2019_07_17 20_15_24.json\n",
      "../data/input/mobilegames\\mobilegames 2019_07_17 20_15_21.json\n",
      "../data/input/mobilegames\\mobilegames 2019_07_17 20_15_17.json\n",
      "../data/input/mobilegames\\mobilegames 2019_07_17 20_15_14.json\n",
      "../data/input/mobilegames\\mobilegames 2019_07_17 20_15_10.json\n",
      "../data/input/mobilegames\\mobilegames 2019_07_17 20_15_07.json\n",
      "../data/input/mobilegames\\mobilegames 2019_07_17 20_15_03.json\n",
      "../data/input/mobilegames\\mobilegames 2019_07_17 20_14_58.json\n",
      "../data/input/mobilegames\\mobilegames 2019_07_17 20_14_54.json\n"
     ]
    }
   ],
   "source": [
    "# load json data from files (saved previously in input folder)\n",
    "\n",
    "if scape_data == False:\n",
    "    \n",
    "    posts_a = read_json_files(subreddits[0])\n",
    "    posts_b = read_json_files(subreddits[1])      "
   ]
  },
  {
   "cell_type": "code",
   "execution_count": 11,
   "metadata": {},
   "outputs": [
    {
     "name": "stdout",
     "output_type": "stream",
     "text": [
      "total number of posts: 2235\n",
      "unique number of posts: 1165\n",
      "\n",
      "total number of posts: 2204\n",
      "unique number of posts: 956\n"
     ]
    }
   ],
   "source": [
    "# posts count info\n",
    "\n",
    "if scape_data == False:\n",
    "    \n",
    "    total_posts_a = len(posts_a)\n",
    "    unique_posts_a = len(set(p['data']['name'] for p in posts_a))\n",
    "    total_posts_b = len(posts_b)\n",
    "    unique_post_b = len(set(p['data']['name'] for p in posts_b))\n",
    "    \n",
    "    print('total number of posts:',total_posts_a)\n",
    "    print('unique number of posts:',unique_posts_a)\n",
    "    print('')\n",
    "    print('total number of posts:',total_posts_b)\n",
    "    print('unique number of posts:',unique_post_b)"
   ]
  },
  {
   "cell_type": "markdown",
   "metadata": {},
   "source": [
    "### Inspect and Clean Data"
   ]
  },
  {
   "cell_type": "code",
   "execution_count": 12,
   "metadata": {},
   "outputs": [],
   "source": [
    "# create empty df\n",
    "\n",
    "#cols = list(posts_a[0]['data'].keys())\n",
    "cols = ['name','title','score','selftext']\n",
    "\n",
    "df = pd.DataFrame(columns=cols)\n",
    "df_a = pd.DataFrame(columns=cols)\n",
    "df_b = pd.DataFrame(columns=cols)"
   ]
  },
  {
   "cell_type": "code",
   "execution_count": 13,
   "metadata": {},
   "outputs": [],
   "source": [
    "# convert posts to df\n",
    "\n",
    "df_a = create_df(posts_a,df_a)\n",
    "df_b = create_df(posts_b,df_b)"
   ]
  },
  {
   "cell_type": "code",
   "execution_count": 14,
   "metadata": {},
   "outputs": [
    {
     "name": "stdout",
     "output_type": "stream",
     "text": [
      "2235\n",
      "2204\n",
      "\n",
      "1165\n",
      "956\n"
     ]
    }
   ],
   "source": [
    "# remove rows with duplicated name\n",
    "\n",
    "print(len(df_a))\n",
    "print(len(df_b))\n",
    "print(\"\")\n",
    "\n",
    "df_a.drop_duplicates(subset='name',inplace=True)\n",
    "df_b.drop_duplicates(subset='name',inplace=True)\n",
    "\n",
    "print(len(df_a))\n",
    "print(len(df_b))"
   ]
  },
  {
   "cell_type": "code",
   "execution_count": 15,
   "metadata": {},
   "outputs": [
    {
     "data": {
      "text/html": [
       "<div>\n",
       "<style scoped>\n",
       "    .dataframe tbody tr th:only-of-type {\n",
       "        vertical-align: middle;\n",
       "    }\n",
       "\n",
       "    .dataframe tbody tr th {\n",
       "        vertical-align: top;\n",
       "    }\n",
       "\n",
       "    .dataframe thead th {\n",
       "        text-align: right;\n",
       "    }\n",
       "</style>\n",
       "<table border=\"1\" class=\"dataframe\">\n",
       "  <thead>\n",
       "    <tr style=\"text-align: right;\">\n",
       "      <th></th>\n",
       "      <th>name</th>\n",
       "      <th>title</th>\n",
       "      <th>score</th>\n",
       "      <th>selftext</th>\n",
       "    </tr>\n",
       "  </thead>\n",
       "  <tbody>\n",
       "    <tr>\n",
       "      <th>0</th>\n",
       "      <td>t3_ccwwo2</td>\n",
       "      <td>What player mats look like after lamination</td>\n",
       "      <td>12</td>\n",
       "      <td>http://imgur.com/gallery/Ab1Q9CQ\\n\\nSearched t...</td>\n",
       "    </tr>\n",
       "    <tr>\n",
       "      <th>1</th>\n",
       "      <td>t3_ccppxz</td>\n",
       "      <td>Anyone playing in downtown Toronto?</td>\n",
       "      <td>69</td>\n",
       "      <td>I've built up a small game collection lately -...</td>\n",
       "    </tr>\n",
       "    <tr>\n",
       "      <th>2</th>\n",
       "      <td>t3_ccqzz1</td>\n",
       "      <td>I made an app to help run my PitchCar tourname...</td>\n",
       "      <td>46</td>\n",
       "      <td></td>\n",
       "    </tr>\n",
       "    <tr>\n",
       "      <th>3</th>\n",
       "      <td>t3_ccwwjl</td>\n",
       "      <td>Pandemic Legacy s1 *September spoilers*</td>\n",
       "      <td>8</td>\n",
       "      <td>Just want to make sure cause this seems weird....</td>\n",
       "    </tr>\n",
       "    <tr>\n",
       "      <th>4</th>\n",
       "      <td>t3_cctvi9</td>\n",
       "      <td>Rumbleslam is the best game I almost never hea...</td>\n",
       "      <td>17</td>\n",
       "      <td>https://imgur.com/a/tPFXI9B\\n\\nI think I gloss...</td>\n",
       "    </tr>\n",
       "  </tbody>\n",
       "</table>\n",
       "</div>"
      ],
      "text/plain": [
       "        name                                              title score  \\\n",
       "0  t3_ccwwo2        What player mats look like after lamination    12   \n",
       "1  t3_ccppxz                Anyone playing in downtown Toronto?    69   \n",
       "2  t3_ccqzz1  I made an app to help run my PitchCar tourname...    46   \n",
       "3  t3_ccwwjl            Pandemic Legacy s1 *September spoilers*     8   \n",
       "4  t3_cctvi9  Rumbleslam is the best game I almost never hea...    17   \n",
       "\n",
       "                                            selftext  \n",
       "0  http://imgur.com/gallery/Ab1Q9CQ\\n\\nSearched t...  \n",
       "1  I've built up a small game collection lately -...  \n",
       "2                                                     \n",
       "3  Just want to make sure cause this seems weird....  \n",
       "4  https://imgur.com/a/tPFXI9B\\n\\nI think I gloss...  "
      ]
     },
     "execution_count": 15,
     "metadata": {},
     "output_type": "execute_result"
    }
   ],
   "source": [
    "df_a.head()"
   ]
  },
  {
   "cell_type": "code",
   "execution_count": 16,
   "metadata": {},
   "outputs": [
    {
     "name": "stdout",
     "output_type": "stream",
     "text": [
      "Index(['name', 'title', 'score', 'selftext'], dtype='object')\n"
     ]
    }
   ],
   "source": [
    "# list all columns\n",
    "\n",
    "print(df_a.columns)"
   ]
  },
  {
   "cell_type": "code",
   "execution_count": 17,
   "metadata": {},
   "outputs": [
    {
     "data": {
      "text/html": [
       "<div>\n",
       "<style scoped>\n",
       "    .dataframe tbody tr th:only-of-type {\n",
       "        vertical-align: middle;\n",
       "    }\n",
       "\n",
       "    .dataframe tbody tr th {\n",
       "        vertical-align: top;\n",
       "    }\n",
       "\n",
       "    .dataframe thead th {\n",
       "        text-align: right;\n",
       "    }\n",
       "</style>\n",
       "<table border=\"1\" class=\"dataframe\">\n",
       "  <thead>\n",
       "    <tr style=\"text-align: right;\">\n",
       "      <th></th>\n",
       "      <th>name</th>\n",
       "      <th>title</th>\n",
       "      <th>score</th>\n",
       "      <th>selftext</th>\n",
       "    </tr>\n",
       "  </thead>\n",
       "  <tbody>\n",
       "    <tr>\n",
       "      <th>0</th>\n",
       "      <td>t3_ccwwo2</td>\n",
       "      <td>What player mats look like after lamination</td>\n",
       "      <td>12</td>\n",
       "      <td>http://imgur.com/gallery/Ab1Q9CQ\\n\\nSearched t...</td>\n",
       "    </tr>\n",
       "    <tr>\n",
       "      <th>1</th>\n",
       "      <td>t3_ccppxz</td>\n",
       "      <td>Anyone playing in downtown Toronto?</td>\n",
       "      <td>69</td>\n",
       "      <td>I've built up a small game collection lately -...</td>\n",
       "    </tr>\n",
       "    <tr>\n",
       "      <th>2</th>\n",
       "      <td>t3_ccqzz1</td>\n",
       "      <td>I made an app to help run my PitchCar tourname...</td>\n",
       "      <td>46</td>\n",
       "      <td></td>\n",
       "    </tr>\n",
       "    <tr>\n",
       "      <th>3</th>\n",
       "      <td>t3_ccwwjl</td>\n",
       "      <td>Pandemic Legacy s1 *September spoilers*</td>\n",
       "      <td>8</td>\n",
       "      <td>Just want to make sure cause this seems weird....</td>\n",
       "    </tr>\n",
       "    <tr>\n",
       "      <th>4</th>\n",
       "      <td>t3_cctvi9</td>\n",
       "      <td>Rumbleslam is the best game I almost never hea...</td>\n",
       "      <td>17</td>\n",
       "      <td>https://imgur.com/a/tPFXI9B\\n\\nI think I gloss...</td>\n",
       "    </tr>\n",
       "  </tbody>\n",
       "</table>\n",
       "</div>"
      ],
      "text/plain": [
       "        name                                              title score  \\\n",
       "0  t3_ccwwo2        What player mats look like after lamination    12   \n",
       "1  t3_ccppxz                Anyone playing in downtown Toronto?    69   \n",
       "2  t3_ccqzz1  I made an app to help run my PitchCar tourname...    46   \n",
       "3  t3_ccwwjl            Pandemic Legacy s1 *September spoilers*     8   \n",
       "4  t3_cctvi9  Rumbleslam is the best game I almost never hea...    17   \n",
       "\n",
       "                                            selftext  \n",
       "0  http://imgur.com/gallery/Ab1Q9CQ\\n\\nSearched t...  \n",
       "1  I've built up a small game collection lately -...  \n",
       "2                                                     \n",
       "3  Just want to make sure cause this seems weird....  \n",
       "4  https://imgur.com/a/tPFXI9B\\n\\nI think I gloss...  "
      ]
     },
     "execution_count": 17,
     "metadata": {},
     "output_type": "execute_result"
    }
   ],
   "source": [
    "# output 1st 5 records\n",
    "\n",
    "df_a.head()"
   ]
  },
  {
   "cell_type": "code",
   "execution_count": 18,
   "metadata": {},
   "outputs": [
    {
     "data": {
      "text/html": [
       "<div>\n",
       "<style scoped>\n",
       "    .dataframe tbody tr th:only-of-type {\n",
       "        vertical-align: middle;\n",
       "    }\n",
       "\n",
       "    .dataframe tbody tr th {\n",
       "        vertical-align: top;\n",
       "    }\n",
       "\n",
       "    .dataframe thead th {\n",
       "        text-align: right;\n",
       "    }\n",
       "</style>\n",
       "<table border=\"1\" class=\"dataframe\">\n",
       "  <thead>\n",
       "    <tr style=\"text-align: right;\">\n",
       "      <th></th>\n",
       "      <th>name</th>\n",
       "      <th>title</th>\n",
       "      <th>score</th>\n",
       "      <th>selftext</th>\n",
       "    </tr>\n",
       "  </thead>\n",
       "  <tbody>\n",
       "    <tr>\n",
       "      <th>count</th>\n",
       "      <td>1165</td>\n",
       "      <td>1165</td>\n",
       "      <td>1165</td>\n",
       "      <td>1165</td>\n",
       "    </tr>\n",
       "    <tr>\n",
       "      <th>unique</th>\n",
       "      <td>1165</td>\n",
       "      <td>1165</td>\n",
       "      <td>202</td>\n",
       "      <td>987</td>\n",
       "    </tr>\n",
       "    <tr>\n",
       "      <th>top</th>\n",
       "      <td>t3_ca35cf</td>\n",
       "      <td>Alternate ways to play Killer Party</td>\n",
       "      <td>0</td>\n",
       "      <td></td>\n",
       "    </tr>\n",
       "    <tr>\n",
       "      <th>freq</th>\n",
       "      <td>1</td>\n",
       "      <td>1</td>\n",
       "      <td>76</td>\n",
       "      <td>137</td>\n",
       "    </tr>\n",
       "  </tbody>\n",
       "</table>\n",
       "</div>"
      ],
      "text/plain": [
       "             name                                title  score selftext\n",
       "count        1165                                 1165   1165     1165\n",
       "unique       1165                                 1165    202      987\n",
       "top     t3_ca35cf  Alternate ways to play Killer Party      0         \n",
       "freq            1                                    1     76      137"
      ]
     },
     "execution_count": 18,
     "metadata": {},
     "output_type": "execute_result"
    }
   ],
   "source": [
    "# df_a summary\n",
    "\n",
    "df_a_desc = df_a.describe()\n",
    "df_a_desc"
   ]
  },
  {
   "cell_type": "code",
   "execution_count": 19,
   "metadata": {},
   "outputs": [
    {
     "data": {
      "text/plain": [
       "Series([], dtype: int64)"
      ]
     },
     "execution_count": 19,
     "metadata": {},
     "output_type": "execute_result"
    }
   ],
   "source": [
    "# Check for nulls in columns\n",
    "\n",
    "null_cols = df_a.isnull().sum()\n",
    "mask_null = null_cols > 0\n",
    "null_cols[mask_null].sort_values(ascending=False)"
   ]
  },
  {
   "cell_type": "code",
   "execution_count": 20,
   "metadata": {},
   "outputs": [
    {
     "data": {
      "text/plain": [
       "Series([], dtype: int64)"
      ]
     },
     "execution_count": 20,
     "metadata": {},
     "output_type": "execute_result"
    }
   ],
   "source": [
    "# Check for nulls in rows\n",
    "\n",
    "null_rows = df_a.isnull().sum(axis=1)\n",
    "mask_null = null_rows > 0\n",
    "null_rows[mask_null].sort_values(ascending=False)"
   ]
  },
  {
   "cell_type": "code",
   "execution_count": 21,
   "metadata": {},
   "outputs": [
    {
     "name": "stdout",
     "output_type": "stream",
     "text": [
      "<class 'pandas.core.frame.DataFrame'>\n",
      "Int64Index: 1165 entries, 0 to 2178\n",
      "Data columns (total 4 columns):\n",
      "name        1165 non-null object\n",
      "title       1165 non-null object\n",
      "score       1165 non-null object\n",
      "selftext    1165 non-null object\n",
      "dtypes: object(4)\n",
      "memory usage: 45.5+ KB\n"
     ]
    }
   ],
   "source": [
    "# show column summary\n",
    "\n",
    "df_a_info = df_a.info()\n",
    "df_a_info"
   ]
  },
  {
   "cell_type": "code",
   "execution_count": 22,
   "metadata": {},
   "outputs": [],
   "source": [
    "# limit no of rows in each df\n",
    "\n",
    "df_a = df_a[:posts_limit]\n",
    "df_b = df_b[:posts_limit]"
   ]
  },
  {
   "cell_type": "code",
   "execution_count": 23,
   "metadata": {},
   "outputs": [],
   "source": [
    "# clean text for df_a and df_b\n",
    "\n",
    "df_a['title'] = df_a['title'].apply(clean_text)\n",
    "df_b['title'] = df_b['title'].apply(clean_text)\n",
    "\n",
    "df_a['selftext'] = df_a['selftext'].apply(clean_text)\n",
    "df_b['selftext'] = df_b['selftext'].apply(clean_text)"
   ]
  },
  {
   "cell_type": "markdown",
   "metadata": {},
   "source": [
    "### Output Clean Data"
   ]
  },
  {
   "cell_type": "code",
   "execution_count": 24,
   "metadata": {},
   "outputs": [],
   "source": [
    "# output to csv\n",
    "\n",
    "df_a.to_csv(output_path + subreddits[0] + '.csv')\n",
    "df_b.to_csv(output_path + subreddits[1] + '.csv')"
   ]
  },
  {
   "cell_type": "markdown",
   "metadata": {},
   "source": [
    "### EDA"
   ]
  },
  {
   "cell_type": "code",
   "execution_count": 25,
   "metadata": {
    "scrolled": true
   },
   "outputs": [
    {
     "name": "stdout",
     "output_type": "stream",
     "text": [
      "2037\n"
     ]
    },
    {
     "data": {
      "text/plain": [
       "game              319\n",
       "board             115\n",
       "2019               55\n",
       "question           46\n",
       "card               46\n",
       "play               44\n",
       "july               38\n",
       "player             32\n",
       "new                31\n",
       "help               31\n",
       "boardgames         29\n",
       "rule               25\n",
       "kickstarter        25\n",
       "discussion         25\n",
       "table              24\n",
       "games              24\n",
       "year               23\n",
       "best               22\n",
       "recommendation     22\n",
       "review             22\n",
       "dtype: int64"
      ]
     },
     "execution_count": 25,
     "metadata": {},
     "output_type": "execute_result"
    }
   ],
   "source": [
    "# print top words in df_a\n",
    "\n",
    "cvec = CountVectorizer(stop_words='english')\n",
    "cvec.fit(df_a['title'])\n",
    "\n",
    "len_features = len(cvec.get_feature_names())\n",
    "print(len_features)\n",
    "\n",
    "df_a_cv = pd.DataFrame(cvec.transform(df_a['title']).todense(),columns=cvec.get_feature_names())\n",
    "\n",
    "top_a = df_a_cv.sum(axis=0)\n",
    "top_a.sort_values(ascending = False).head(20)"
   ]
  },
  {
   "cell_type": "code",
   "execution_count": 26,
   "metadata": {},
   "outputs": [
    {
     "name": "stdout",
     "output_type": "stream",
     "text": [
      "1869\n"
     ]
    },
    {
     "data": {
      "text/plain": [
       "game        416\n",
       "mobile      205\n",
       "android     101\n",
       "new          73\n",
       "play         63\n",
       "gameplay     52\n",
       "like         41\n",
       "looking      38\n",
       "ios          38\n",
       "best         36\n",
       "good         35\n",
       "io           34\n",
       "look         29\n",
       "free         28\n",
       "help         26\n",
       "2018         24\n",
       "review       22\n",
       "games        21\n",
       "pubg         20\n",
       "check        20\n",
       "dtype: int64"
      ]
     },
     "execution_count": 26,
     "metadata": {},
     "output_type": "execute_result"
    }
   ],
   "source": [
    "# print top words in df_b\n",
    "\n",
    "cvec = CountVectorizer(stop_words='english')\n",
    "cvec.fit(df_b['title'])\n",
    "\n",
    "len_features = len(cvec.get_feature_names())\n",
    "print(len_features)\n",
    "\n",
    "df_b_cv = pd.DataFrame(cvec.transform(df_b['title']).todense(),columns=cvec.get_feature_names())\n",
    "\n",
    "top_b = df_b_cv.sum(axis=0)\n",
    "top_b.sort_values(ascending = False).head(20)"
   ]
  },
  {
   "cell_type": "code",
   "execution_count": 27,
   "metadata": {},
   "outputs": [
    {
     "data": {
      "text/html": [
       "<div>\n",
       "<style scoped>\n",
       "    .dataframe tbody tr th:only-of-type {\n",
       "        vertical-align: middle;\n",
       "    }\n",
       "\n",
       "    .dataframe tbody tr th {\n",
       "        vertical-align: top;\n",
       "    }\n",
       "\n",
       "    .dataframe thead th {\n",
       "        text-align: right;\n",
       "    }\n",
       "</style>\n",
       "<table border=\"1\" class=\"dataframe\">\n",
       "  <thead>\n",
       "    <tr style=\"text-align: right;\">\n",
       "      <th></th>\n",
       "      <th>word</th>\n",
       "      <th>count</th>\n",
       "      <th>freq</th>\n",
       "    </tr>\n",
       "  </thead>\n",
       "  <tbody>\n",
       "    <tr>\n",
       "      <th>776</th>\n",
       "      <td>game</td>\n",
       "      <td>319</td>\n",
       "      <td>35.444444</td>\n",
       "    </tr>\n",
       "    <tr>\n",
       "      <th>244</th>\n",
       "      <td>board</td>\n",
       "      <td>115</td>\n",
       "      <td>12.777778</td>\n",
       "    </tr>\n",
       "    <tr>\n",
       "      <th>35</th>\n",
       "      <td>2019</td>\n",
       "      <td>55</td>\n",
       "      <td>6.111111</td>\n",
       "    </tr>\n",
       "    <tr>\n",
       "      <th>311</th>\n",
       "      <td>card</td>\n",
       "      <td>46</td>\n",
       "      <td>5.111111</td>\n",
       "    </tr>\n",
       "    <tr>\n",
       "      <th>1429</th>\n",
       "      <td>question</td>\n",
       "      <td>46</td>\n",
       "      <td>5.111111</td>\n",
       "    </tr>\n",
       "    <tr>\n",
       "      <th>1316</th>\n",
       "      <td>play</td>\n",
       "      <td>44</td>\n",
       "      <td>4.888889</td>\n",
       "    </tr>\n",
       "    <tr>\n",
       "      <th>977</th>\n",
       "      <td>july</td>\n",
       "      <td>38</td>\n",
       "      <td>4.222222</td>\n",
       "    </tr>\n",
       "    <tr>\n",
       "      <th>1318</th>\n",
       "      <td>player</td>\n",
       "      <td>32</td>\n",
       "      <td>3.555556</td>\n",
       "    </tr>\n",
       "    <tr>\n",
       "      <th>853</th>\n",
       "      <td>help</td>\n",
       "      <td>31</td>\n",
       "      <td>3.444444</td>\n",
       "    </tr>\n",
       "    <tr>\n",
       "      <th>1194</th>\n",
       "      <td>new</td>\n",
       "      <td>31</td>\n",
       "      <td>3.444444</td>\n",
       "    </tr>\n",
       "  </tbody>\n",
       "</table>\n",
       "</div>"
      ],
      "text/plain": [
       "          word  count       freq\n",
       "776       game    319  35.444444\n",
       "244      board    115  12.777778\n",
       "35        2019     55   6.111111\n",
       "311       card     46   5.111111\n",
       "1429  question     46   5.111111\n",
       "1316      play     44   4.888889\n",
       "977       july     38   4.222222\n",
       "1318    player     32   3.555556\n",
       "853       help     31   3.444444\n",
       "1194       new     31   3.444444"
      ]
     },
     "execution_count": 27,
     "metadata": {},
     "output_type": "execute_result"
    }
   ],
   "source": [
    "# get top words in df_a\n",
    "\n",
    "df_top_a = top_a.to_frame(name='count')\n",
    "df_top_a['word'] = df_top_a.index\n",
    "df_top_a.reset_index(drop=True, inplace=True)\n",
    "df_top_a['freq'] = df_top_a['count'] / len(df_a) * 100\n",
    "\n",
    "cols = ['word','count','freq']\n",
    "df_top_a = df_top_a[cols]\n",
    "df_top_a.sort_values(by='count',ascending=False, inplace=True)\n",
    "df_top_a.head(10)"
   ]
  },
  {
   "cell_type": "code",
   "execution_count": 28,
   "metadata": {},
   "outputs": [
    {
     "data": {
      "text/html": [
       "<div>\n",
       "<style scoped>\n",
       "    .dataframe tbody tr th:only-of-type {\n",
       "        vertical-align: middle;\n",
       "    }\n",
       "\n",
       "    .dataframe tbody tr th {\n",
       "        vertical-align: top;\n",
       "    }\n",
       "\n",
       "    .dataframe thead th {\n",
       "        text-align: right;\n",
       "    }\n",
       "</style>\n",
       "<table border=\"1\" class=\"dataframe\">\n",
       "  <thead>\n",
       "    <tr style=\"text-align: right;\">\n",
       "      <th></th>\n",
       "      <th>word</th>\n",
       "      <th>count</th>\n",
       "      <th>freq</th>\n",
       "    </tr>\n",
       "  </thead>\n",
       "  <tbody>\n",
       "    <tr>\n",
       "      <th>690</th>\n",
       "      <td>game</td>\n",
       "      <td>416</td>\n",
       "      <td>46.222222</td>\n",
       "    </tr>\n",
       "    <tr>\n",
       "      <th>1084</th>\n",
       "      <td>mobile</td>\n",
       "      <td>205</td>\n",
       "      <td>22.777778</td>\n",
       "    </tr>\n",
       "    <tr>\n",
       "      <th>94</th>\n",
       "      <td>android</td>\n",
       "      <td>101</td>\n",
       "      <td>11.222222</td>\n",
       "    </tr>\n",
       "    <tr>\n",
       "      <th>1134</th>\n",
       "      <td>new</td>\n",
       "      <td>73</td>\n",
       "      <td>8.111111</td>\n",
       "    </tr>\n",
       "    <tr>\n",
       "      <th>1238</th>\n",
       "      <td>play</td>\n",
       "      <td>63</td>\n",
       "      <td>7.000000</td>\n",
       "    </tr>\n",
       "    <tr>\n",
       "      <th>693</th>\n",
       "      <td>gameplay</td>\n",
       "      <td>52</td>\n",
       "      <td>5.777778</td>\n",
       "    </tr>\n",
       "    <tr>\n",
       "      <th>970</th>\n",
       "      <td>like</td>\n",
       "      <td>41</td>\n",
       "      <td>4.555556</td>\n",
       "    </tr>\n",
       "    <tr>\n",
       "      <th>990</th>\n",
       "      <td>looking</td>\n",
       "      <td>38</td>\n",
       "      <td>4.222222</td>\n",
       "    </tr>\n",
       "    <tr>\n",
       "      <th>889</th>\n",
       "      <td>ios</td>\n",
       "      <td>38</td>\n",
       "      <td>4.222222</td>\n",
       "    </tr>\n",
       "    <tr>\n",
       "      <th>178</th>\n",
       "      <td>best</td>\n",
       "      <td>36</td>\n",
       "      <td>4.000000</td>\n",
       "    </tr>\n",
       "  </tbody>\n",
       "</table>\n",
       "</div>"
      ],
      "text/plain": [
       "          word  count       freq\n",
       "690       game    416  46.222222\n",
       "1084    mobile    205  22.777778\n",
       "94     android    101  11.222222\n",
       "1134       new     73   8.111111\n",
       "1238      play     63   7.000000\n",
       "693   gameplay     52   5.777778\n",
       "970       like     41   4.555556\n",
       "990    looking     38   4.222222\n",
       "889        ios     38   4.222222\n",
       "178       best     36   4.000000"
      ]
     },
     "execution_count": 28,
     "metadata": {},
     "output_type": "execute_result"
    }
   ],
   "source": [
    "# get top words in df_b\n",
    "\n",
    "df_top_b = top_b.to_frame(name='count')\n",
    "df_top_b['word'] = df_top_b.index\n",
    "df_top_b.reset_index(drop=True, inplace=True)\n",
    "df_top_b['freq'] = df_top_b['count'] / len(df_b) * 100\n",
    "\n",
    "cols = ['word','count','freq']\n",
    "df_top_b = df_top_b[cols]\n",
    "df_top_b.sort_values(by='count',ascending=False, inplace=True)\n",
    "df_top_b.head(10)"
   ]
  },
  {
   "cell_type": "code",
   "execution_count": 29,
   "metadata": {},
   "outputs": [
    {
     "name": "stdout",
     "output_type": "stream",
     "text": [
      "As expected, game and board are the top 2 words in Board Games Subreddit.\n"
     ]
    },
    {
     "data": {
      "image/png": "[encoded data removed]",
      "text/plain": [
       "<Figure size 1440x720 with 1 Axes>"
      ]
     },
     "metadata": {
      "needs_background": "light"
     },
     "output_type": "display_data"
    }
   ],
   "source": [
    "plt.figure(figsize=(20,10))\n",
    "plt.title('Board Games: Top 20 Words',fontsize=25)\n",
    "\n",
    "sns.set_style(\"whitegrid\")\n",
    "sns.barplot(data=df_top_a.head(20),x='freq',y='word',orient='h')\n",
    "\n",
    "plt.xlabel('frequency (%)',fontsize=20)\n",
    "plt.ylabel('word',fontsize=20)\n",
    "plt.tick_params(labelsize=15)\n",
    "\n",
    "print('As expected, game and board are the top 2 words in Board Games Subreddit.')"
   ]
  },
  {
   "cell_type": "code",
   "execution_count": 30,
   "metadata": {},
   "outputs": [
    {
     "name": "stdout",
     "output_type": "stream",
     "text": [
      "Interesting to note that 2018 is among the top 20 words for mobile games.\n",
      "The subreddits have some common words. I will plot a Venn Diagram next to show those common words.\n"
     ]
    },
    {
     "data": {
      "image/png": "[encoded data removed]",
      "text/plain": [
       "<Figure size 1440x720 with 1 Axes>"
      ]
     },
     "metadata": {},
     "output_type": "display_data"
    }
   ],
   "source": [
    "plt.figure(figsize=(20,10))\n",
    "plt.title('Mobile Games: Top 20 Words',fontsize=25)\n",
    "\n",
    "sns.set_style(\"whitegrid\")\n",
    "sns.barplot(data=df_top_b.head(20),x='freq',y='word',orient='h')\n",
    "\n",
    "plt.xlabel('frequency (%)',fontsize=20)\n",
    "plt.ylabel('word',fontsize=20)\n",
    "plt.tick_params(labelsize=15)\n",
    "\n",
    "print('Interesting to note that 2018 is among the top 20 words for mobile games.')\n",
    "print('The subreddits have some common words. I will plot a Venn Diagram next to show those common words.')"
   ]
  },
  {
   "cell_type": "code",
   "execution_count": 31,
   "metadata": {},
   "outputs": [
    {
     "name": "stdout",
     "output_type": "stream",
     "text": [
      "Venn Diagram below shows the top 20 words for both subreddits.\n",
      "There are 7 common words as expected for the subreddits given their similarities.\n"
     ]
    },
    {
     "data": {
      "image/png": "[encoded data removed]",
      "text/plain": [
       "<Figure size 720x720 with 1 Axes>"
      ]
     },
     "metadata": {},
     "output_type": "display_data"
    }
   ],
   "source": [
    "plt.figure(figsize=(10,10))\n",
    "plt.title('Word Comparsion',fontsize=25)\n",
    "\n",
    "set_a = set(df_top_a['word'][:20])\n",
    "set_b = set(df_top_b['word'][:20])\n",
    "\n",
    "venn = venn2([set_a,set_b],set_labels=['Board Games','Mobile Games'])\n",
    "\n",
    "venn.get_label_by_id('100').set_text('\\n'.join(map(str,set_a-set_b)))\n",
    "venn.get_label_by_id('110').set_text('\\n'.join(map(str,set_a&set_b)))\n",
    "venn.get_label_by_id('010').set_text('\\n'.join(map(str,set_b-set_a)))\n",
    "\n",
    "venn.get_label_by_id('A').set_size(20)\n",
    "venn.get_label_by_id('B').set_size(20)\n",
    "venn.get_label_by_id('100').set_size(13)\n",
    "venn.get_label_by_id('110').set_size(13)\n",
    "venn.get_label_by_id('010').set_size(13)\n",
    "\n",
    "print('Venn Diagram below shows the top 20 words for both subreddits.')\n",
    "print('There are 7 common words as expected for the subreddits given their similarities.')"
   ]
  },
  {
   "cell_type": "markdown",
   "metadata": {},
   "source": [
    "### Create Feature Matrix and Target"
   ]
  },
  {
   "cell_type": "code",
   "execution_count": 32,
   "metadata": {},
   "outputs": [],
   "source": [
    "# create df by appending df_a and df_b\n",
    "\n",
    "df = df.append(df_a)\n",
    "df = df.append(df_b)\n",
    "\n",
    "df.reset_index(drop=True,inplace=True)"
   ]
  },
  {
   "cell_type": "code",
   "execution_count": 33,
   "metadata": {},
   "outputs": [
    {
     "name": "stderr",
     "output_type": "stream",
     "text": [
      "C:\\ProgramData\\Anaconda3\\lib\\site-packages\\pandas\\core\\indexing.py:190: SettingWithCopyWarning: \n",
      "A value is trying to be set on a copy of a slice from a DataFrame\n",
      "\n",
      "See the caveats in the documentation: http://pandas.pydata.org/pandas-docs/stable/indexing.html#indexing-view-versus-copy\n",
      "  self._setitem_with_indexer(indexer, value)\n"
     ]
    }
   ],
   "source": [
    "# create target (use one hot encoding)\n",
    "\n",
    "df['is_a'] = 0\n",
    "df['is_a'].iloc[0:len(df_a)] = 1"
   ]
  },
  {
   "cell_type": "code",
   "execution_count": 34,
   "metadata": {},
   "outputs": [],
   "source": [
    "# create X (feature matrix) and y (target)\n",
    "\n",
    "X = df[['title']]\n",
    "y = df['is_a'].values\n",
    "\n",
    "X_train,X_test,y_train,y_test = train_test_split(X,y,train_size=0.7,test_size=0.3,stratify=y,random_state=3050)"
   ]
  },
  {
   "cell_type": "code",
   "execution_count": 35,
   "metadata": {},
   "outputs": [
    {
     "name": "stdout",
     "output_type": "stream",
     "text": [
      "(1260, 1)\n",
      "(540, 1)\n",
      "(1260,)\n",
      "(540,)\n"
     ]
    }
   ],
   "source": [
    "# check train and test data\n",
    "\n",
    "print(X_train.shape)\n",
    "print(X_test.shape)\n",
    "print(y_train.shape)\n",
    "print(y_test.shape)"
   ]
  },
  {
   "cell_type": "code",
   "execution_count": 36,
   "metadata": {},
   "outputs": [
    {
     "name": "stdout",
     "output_type": "stream",
     "text": [
      "baseline score: 0.5\n"
     ]
    }
   ],
   "source": [
    "print('baseline score:',y_test.mean())"
   ]
  },
  {
   "cell_type": "markdown",
   "metadata": {},
   "source": [
    "### Logistic Regression Model"
   ]
  },
  {
   "cell_type": "code",
   "execution_count": 37,
   "metadata": {},
   "outputs": [
    {
     "name": "stdout",
     "output_type": "stream",
     "text": [
      "2858\n"
     ]
    },
    {
     "name": "stderr",
     "output_type": "stream",
     "text": [
      "C:\\ProgramData\\Anaconda3\\lib\\site-packages\\sklearn\\linear_model\\logistic.py:433: FutureWarning: Default solver will be changed to 'lbfgs' in 0.22. Specify a solver to silence this warning.\n",
      "  FutureWarning)\n"
     ]
    },
    {
     "name": "stdout",
     "output_type": "stream",
     "text": [
      "score: 0.8703703703703703\n"
     ]
    }
   ],
   "source": [
    "# create baseline model with CountVectorizer\n",
    "\n",
    "cvec_0 = CountVectorizer()\n",
    "cvec_0.fit(X_train['title'])\n",
    "\n",
    "len_features = len(cvec_0.get_feature_names())\n",
    "print(len_features)\n",
    "\n",
    "X_train_cv_0 = pd.DataFrame(cvec_0.transform(X_train['title']).todense(),columns=cvec_0.get_feature_names())\n",
    "X_test_cv_0 = pd.DataFrame(cvec_0.transform(X_test['title']).todense(),columns=cvec_0.get_feature_names())\n",
    "\n",
    "# use with Logistic Regression\n",
    "\n",
    "lr_model_0 = LogisticRegression()\n",
    "lr_model_0.fit(X_train_cv_0,y_train)\n",
    "\n",
    "score = lr_model_0.score(X_test_cv_0, y_test)\n",
    "print('score:',score)"
   ]
  },
  {
   "cell_type": "code",
   "execution_count": 38,
   "metadata": {},
   "outputs": [
    {
     "name": "stdout",
     "output_type": "stream",
     "text": [
      "2663\n"
     ]
    },
    {
     "name": "stderr",
     "output_type": "stream",
     "text": [
      "C:\\ProgramData\\Anaconda3\\lib\\site-packages\\sklearn\\linear_model\\logistic.py:433: FutureWarning: Default solver will be changed to 'lbfgs' in 0.22. Specify a solver to silence this warning.\n",
      "  FutureWarning)\n"
     ]
    },
    {
     "name": "stdout",
     "output_type": "stream",
     "text": [
      "score: 0.8629629629629629\n",
      "baseline model (lr_model_0) has better accuracy than 2nd model (lr_model_1)\n"
     ]
    }
   ],
   "source": [
    "# create another model with CountVectorizer\n",
    "\n",
    "cvec_1 = CountVectorizer(stop_words='english')\n",
    "cvec_1.fit(X_train['title'])\n",
    "\n",
    "len_features = len(cvec_1.get_feature_names())\n",
    "print(len_features)\n",
    "\n",
    "X_train_cv_1 = pd.DataFrame(cvec_1.transform(X_train['title']).todense(),columns=cvec_1.get_feature_names())\n",
    "X_test_cv_1 = pd.DataFrame(cvec_1.transform(X_test['title']).todense(),columns=cvec_1.get_feature_names())\n",
    "\n",
    "# use with LogisticRegression\n",
    "\n",
    "lr_model_1 = LogisticRegression()\n",
    "lr_model_1.fit(X_train_cv_1,y_train)\n",
    "\n",
    "score = lr_model_1.score(X_test_cv_1, y_test)\n",
    "print('score:',score)\n",
    "\n",
    "print('baseline model (lr_model_0) has better accuracy than 2nd model (lr_model_1)')"
   ]
  },
  {
   "cell_type": "markdown",
   "metadata": {},
   "source": [
    "### Bayes Classifer"
   ]
  },
  {
   "cell_type": "code",
   "execution_count": 39,
   "metadata": {},
   "outputs": [
    {
     "name": "stdout",
     "output_type": "stream",
     "text": [
      "train_score: 0.976984126984127\n",
      "test_score: 0.8944444444444445\n",
      "\n",
      "True Positives: 242\n",
      "False Positives: 29\n",
      "False Negatives: 28\n",
      "True Negatives: 241\n",
      "\n",
      "Accuracy: 0.894\n",
      "Sensitivity: 0.896\n",
      "Specificity: 0.893\n",
      "Precision: 0.893\n",
      "\n",
      "This model (baseline Bayes Classifer) makes better prediction (with higher test scores) than the logistic regression models (built in earlier cells)\n"
     ]
    }
   ],
   "source": [
    "# create baseline model with MultinomialNB model\n",
    "# use X_train_cv_0, X_test_cv_0, y_train, y_test\n",
    "\n",
    "mnb = MultinomialNB()\n",
    "\n",
    "mnb.fit(X_train_cv_0,y_train)\n",
    "y_pred = mnb.predict(X_test_cv_0)\n",
    "\n",
    "# score MultinomialNB model\n",
    "\n",
    "train_score = mnb.score(X_train_cv_0,y_train)\n",
    "print('train_score:',train_score)\n",
    "\n",
    "test_score = mnb.score(X_test_cv_0,y_test)\n",
    "print('test_score:',test_score)\n",
    "print('')\n",
    "\n",
    "# create confusion matrix\n",
    "\n",
    "tn, fp, fn, tp = confusion_matrix(y_test, y_pred).ravel()\n",
    "\n",
    "print(\"True Positives: %s\" % tp)\n",
    "print(\"False Positives: %s\" % fp)\n",
    "print(\"False Negatives: %s\" % fn)\n",
    "print(\"True Negatives: %s\" % tn)\n",
    "print('')\n",
    "\n",
    "# confusion matrix metrics\n",
    "\n",
    "accuracy = (tp+tn)/(tp+fp+fn+tn)\n",
    "sensitivity = tp/(tp+fn)\n",
    "specificity = tn/(tn+fp)\n",
    "precision = tp/(tp+fp)\n",
    "\n",
    "print('Accuracy:',round(accuracy,3))\n",
    "print('Sensitivity:',round(sensitivity,3))\n",
    "print('Specificity:',round(specificity,3))\n",
    "print('Precision:',round(precision,3))\n",
    "print('')\n",
    "\n",
    "print('This model (baseline Bayes Classifer) makes better prediction (with higher test scores) than the logistic regression models (built in earlier cells)')"
   ]
  },
  {
   "cell_type": "code",
   "execution_count": 40,
   "metadata": {},
   "outputs": [
    {
     "name": "stdout",
     "output_type": "stream",
     "text": [
      "train_score: 0.9698412698412698\n",
      "test_score: 0.8759259259259259\n",
      "\n",
      "True Positives: 229\n",
      "False Positives: 26\n",
      "False Negatives: 41\n",
      "True Negatives: 244\n",
      "\n",
      "Accuracy: 0.876\n",
      "Sensitivity: 0.848\n",
      "Specificity: 0.904\n",
      "Precision: 0.898\n",
      "\n",
      "This Bayes Classifer model (countvectorizer with stopwords) performs slightly worse than baseline model (countvectorizer without stopwords)\n"
     ]
    }
   ],
   "source": [
    "# create another model with MultinomialNB model\n",
    "# use X_train_cv_1, X_test_cv_1, y_train, y_test\n",
    "\n",
    "mnb = MultinomialNB()\n",
    "\n",
    "mnb.fit(X_train_cv_1,y_train)\n",
    "y_pred = mnb.predict(X_test_cv_1)\n",
    "\n",
    "# score MultinomialNB model\n",
    "\n",
    "train_score = mnb.score(X_train_cv_1,y_train)\n",
    "print('train_score:',train_score)\n",
    "\n",
    "test_score = mnb.score(X_test_cv_1,y_test)\n",
    "print('test_score:',test_score)\n",
    "print('')\n",
    "\n",
    "# create confusion matrix\n",
    "\n",
    "tn, fp, fn, tp = confusion_matrix(y_test, y_pred).ravel()\n",
    "\n",
    "print(\"True Positives: %s\" % tp)\n",
    "print(\"False Positives: %s\" % fp)\n",
    "print(\"False Negatives: %s\" % fn)\n",
    "print(\"True Negatives: %s\" % tn)\n",
    "print('')\n",
    "\n",
    "# confusion matrix metrics\n",
    "\n",
    "accuracy = (tp+tn)/(tp+fp+fn+tn)\n",
    "sensitivity = tp/(tp+fn)\n",
    "specificity = tn/(tn+fp)\n",
    "precision = tp/(tp+fp)\n",
    "\n",
    "print('Accuracy:',round(accuracy,3))\n",
    "print('Sensitivity:',round(sensitivity,3))\n",
    "print('Specificity:',round(specificity,3))\n",
    "print('Precision:',round(precision,3))\n",
    "print('')\n",
    "\n",
    "print('This Bayes Classifer model (countvectorizer with stopwords) performs slightly worse than baseline model (countvectorizer without stopwords)')"
   ]
  },
  {
   "cell_type": "markdown",
   "metadata": {},
   "source": [
    "### Models by Pipeline"
   ]
  },
  {
   "cell_type": "code",
   "execution_count": 41,
   "metadata": {},
   "outputs": [
    {
     "name": "stderr",
     "output_type": "stream",
     "text": [
      "C:\\ProgramData\\Anaconda3\\lib\\site-packages\\sklearn\\linear_model\\logistic.py:433: FutureWarning: Default solver will be changed to 'lbfgs' in 0.22. Specify a solver to silence this warning.\n",
      "  FutureWarning)\n"
     ]
    },
    {
     "name": "stdout",
     "output_type": "stream",
     "text": [
      "accuracy_score 0.8481481481481481\n",
      "Number of features: 1000\n"
     ]
    }
   ],
   "source": [
    "# TfidfVectorizer with LogisticRegression\n",
    "\n",
    "model = make_pipeline(TfidfVectorizer(stop_words='english',\n",
    "                                      sublinear_tf=True,\n",
    "                                      max_df=0.5,\n",
    "                                      max_features=1000,\n",
    "                                     ngram_range=(1,2)),\n",
    "                      LogisticRegression(),\n",
    "                      )\n",
    "\n",
    "model.fit(X_train['title'], y_train)\n",
    "y_pred = model.predict(X_test['title'])\n",
    "\n",
    "print('accuracy_score',accuracy_score(y_test, y_pred))\n",
    "print(\"Number of features:\", len(model.steps[0][1].get_feature_names()))"
   ]
  },
  {
   "cell_type": "code",
   "execution_count": 42,
   "metadata": {},
   "outputs": [
    {
     "name": "stdout",
     "output_type": "stream",
     "text": [
      "accuracy_score 0.8666666666666667\n",
      "Number of features: 1000\n",
      "\n",
      "This model (TfidfVectorizer and MultinomialNB) makes slightly better prediction than earlier model (TfidfVectorizer and LogisticRegression).\n"
     ]
    }
   ],
   "source": [
    "# TfidfVectorizer with MultinomialNB\n",
    "\n",
    "model = make_pipeline(TfidfVectorizer(stop_words='english',\n",
    "                                      sublinear_tf=True,\n",
    "                                      max_df=0.5,\n",
    "                                      max_features=1000,\n",
    "                                      ngram_range=(1,2)),\n",
    "                      MultinomialNB()\n",
    "                      )\n",
    "\n",
    "model.fit(X_train['title'], y_train)\n",
    "y_pred = model.predict(X_test['title'])\n",
    "\n",
    "print('accuracy_score',accuracy_score(y_test, y_pred))\n",
    "print(\"Number of features:\", len(model.steps[0][1].get_feature_names()))\n",
    "print('')\n",
    "\n",
    "print('This model (TfidfVectorizer and MultinomialNB) makes slightly better prediction than earlier model (TfidfVectorizer and LogisticRegression).')"
   ]
  },
  {
   "cell_type": "markdown",
   "metadata": {},
   "source": [
    "### Models by GridSearch"
   ]
  },
  {
   "cell_type": "code",
   "execution_count": 43,
   "metadata": {},
   "outputs": [
    {
     "name": "stdout",
     "output_type": "stream",
     "text": [
      "Fitting 5 folds for each of 60 candidates, totalling 300 fits\n"
     ]
    },
    {
     "name": "stderr",
     "output_type": "stream",
     "text": [
      "[Parallel(n_jobs=3)]: Using backend LokyBackend with 3 concurrent workers.\n",
      "[Parallel(n_jobs=3)]: Done  46 tasks      | elapsed:   18.6s\n",
      "[Parallel(n_jobs=3)]: Done 300 out of 300 | elapsed:   27.0s finished\n",
      "C:\\ProgramData\\Anaconda3\\lib\\site-packages\\sklearn\\linear_model\\logistic.py:433: FutureWarning: Default solver will be changed to 'lbfgs' in 0.22. Specify a solver to silence this warning.\n",
      "  FutureWarning)\n"
     ]
    },
    {
     "data": {
      "text/plain": [
       "GridSearchCV(cv=5, error_score='raise-deprecating',\n",
       "       estimator=Pipeline(memory=None,\n",
       "     steps=[('tfidf', TfidfVectorizer(analyzer='word', binary=False, decode_error='strict',\n",
       "        dtype=<class 'numpy.float64'>, encoding='utf-8', input='content',\n",
       "        lowercase=True, max_df=1.0, max_features=None, min_df=1,\n",
       "        ngram_range=(1, 1), norm='l2', preprocessor=None, smooth_idf=True,...penalty='l2', random_state=None, solver='warn',\n",
       "          tol=0.0001, verbose=0, warm_start=False))]),\n",
       "       fit_params=None, iid='warn', n_jobs=3,\n",
       "       param_grid={'tfidf__stop_words': ['english', None], 'tfidf__max_features': range(1000, 11000, 1000), 'tfidf__ngram_range': [(1, 1), (1, 2), (1, 3)]},\n",
       "       pre_dispatch='2*n_jobs', refit=True, return_train_score=False,\n",
       "       scoring=None, verbose=1)"
      ]
     },
     "execution_count": 43,
     "metadata": {},
     "output_type": "execute_result"
    }
   ],
   "source": [
    "# create gs_model using gridsearch\n",
    "\n",
    "tfidf = TfidfVectorizer()\n",
    "lr = LogisticRegression()\n",
    "\n",
    "pipe = Pipeline([('tfidf', tfidf), ('lr', lr)])\n",
    "\n",
    "params = {\n",
    "        'tfidf__stop_words': ['english',None],\n",
    "        'tfidf__max_features': range(1000,11000,1000),\n",
    "        #'tfidf__max_df': np.arange(0.1,0.6,0.1),\n",
    "        'tfidf__ngram_range': [(1, 1), (1, 2),(1,3)]\n",
    "        }\n",
    "\n",
    "gs_model = GridSearchCV(\n",
    "    pipe,\n",
    "    params,\n",
    "    cv=5,\n",
    "    verbose=1,\n",
    "    n_jobs=3,\n",
    "    return_train_score=False\n",
    ")\n",
    "\n",
    "gs_model.fit(X_train['title'], y_train)"
   ]
  },
  {
   "cell_type": "code",
   "execution_count": 44,
   "metadata": {},
   "outputs": [
    {
     "name": "stdout",
     "output_type": "stream",
     "text": [
      "score: 0.8796296296296297\n",
      "best_score: 0.8365079365079365\n",
      "best_params: {'tfidf__max_features': 9000, 'tfidf__ngram_range': (1, 2), 'tfidf__stop_words': None}\n"
     ]
    }
   ],
   "source": [
    "y_pred = gs_model.predict(X_test['title'])\n",
    "\n",
    "score = gs_model.score(X_test['title'], y_test)\n",
    "print('score:',score)\n",
    "\n",
    "print('best_score:', gs_model.best_score_)\n",
    "print('best_params:', gs_model.best_params_)"
   ]
  },
  {
   "cell_type": "code",
   "execution_count": 45,
   "metadata": {},
   "outputs": [
    {
     "name": "stdout",
     "output_type": "stream",
     "text": [
      "Fitting 5 folds for each of 60 candidates, totalling 300 fits\n"
     ]
    },
    {
     "name": "stderr",
     "output_type": "stream",
     "text": [
      "[Parallel(n_jobs=3)]: Using backend LokyBackend with 3 concurrent workers.\n",
      "[Parallel(n_jobs=3)]: Done 158 tasks      | elapsed:    4.4s\n",
      "[Parallel(n_jobs=3)]: Done 300 out of 300 | elapsed:    8.3s finished\n"
     ]
    },
    {
     "data": {
      "text/plain": [
       "GridSearchCV(cv=5, error_score='raise-deprecating',\n",
       "       estimator=Pipeline(memory=None,\n",
       "     steps=[('tfidf', TfidfVectorizer(analyzer='word', binary=False, decode_error='strict',\n",
       "        dtype=<class 'numpy.float64'>, encoding='utf-8', input='content',\n",
       "        lowercase=True, max_df=1.0, max_features=None, min_df=1,\n",
       "        ngram_range=(1, 1), norm='l2', preprocessor=None, smooth_idf=True,...rue,\n",
       "        vocabulary=None)), ('mnb', MultinomialNB(alpha=1.0, class_prior=None, fit_prior=True))]),\n",
       "       fit_params=None, iid='warn', n_jobs=3,\n",
       "       param_grid={'tfidf__stop_words': ['english', None], 'tfidf__max_features': range(1000, 11000, 1000), 'tfidf__ngram_range': [(1, 1), (1, 2), (1, 3)]},\n",
       "       pre_dispatch='2*n_jobs', refit=True, return_train_score=False,\n",
       "       scoring=None, verbose=1)"
      ]
     },
     "execution_count": 45,
     "metadata": {},
     "output_type": "execute_result"
    }
   ],
   "source": [
    "# create gs_model_2 using gridsearch\n",
    "\n",
    "tfidf = TfidfVectorizer()\n",
    "mnb = MultinomialNB()\n",
    "\n",
    "pipe = Pipeline([('tfidf', tfidf), ('mnb', mnb)])\n",
    "\n",
    "params = {\n",
    "        'tfidf__stop_words': ['english',None],\n",
    "        'tfidf__max_features': range(1000,11000,1000),\n",
    "        #'tfidf__max_df': np.arange(0.1,0.6,0.1),\n",
    "        'tfidf__ngram_range': [(1, 1), (1, 2),(1,3)]\n",
    "        }\n",
    "\n",
    "gs_model_2 = GridSearchCV(\n",
    "    pipe,\n",
    "    params,\n",
    "    cv=5,\n",
    "    verbose=1,\n",
    "    n_jobs=3,\n",
    "    return_train_score=False\n",
    ")\n",
    "\n",
    "gs_model_2.fit(X_train['title'], y_train)"
   ]
  },
  {
   "cell_type": "code",
   "execution_count": 46,
   "metadata": {},
   "outputs": [
    {
     "name": "stdout",
     "output_type": "stream",
     "text": [
      "score: 0.8796296296296297\n",
      "best_score: 0.8626984126984127\n",
      "best_params: {'tfidf__max_features': 6000, 'tfidf__ngram_range': (1, 2), 'tfidf__stop_words': None}\n",
      "\n",
      "gs_model_2 perform better perdictions (higher best_score) than gs_model.\n",
      "both models (for best scores) uses ngram_range of 1-2 and ignore stop words.\n"
     ]
    }
   ],
   "source": [
    "y_pred = gs_model_2.predict(X_test['title'])\n",
    "\n",
    "score = gs_model_2.score(X_test['title'], y_test)\n",
    "print('score:',score)\n",
    "\n",
    "print('best_score:', gs_model_2.best_score_)\n",
    "print('best_params:', gs_model_2.best_params_)\n",
    "print('')\n",
    "\n",
    "print('gs_model_2 perform better perdictions (higher best_score) than gs_model.')\n",
    "print('both models (for best scores) uses ngram_range of 1-2 and ignore stop words.')"
   ]
  },
  {
   "cell_type": "markdown",
   "metadata": {},
   "source": [
    "### Sentiment Analysis"
   ]
  },
  {
   "cell_type": "code",
   "execution_count": 47,
   "metadata": {},
   "outputs": [],
   "source": [
    "# using SentimentIntensityAnalyser to find any correlations between reddit score and compound\n",
    "\n",
    "# reddit score:\n",
    "# the difference between upvotes and downvotes\n",
    "\n",
    "# compound: \n",
    "# a metric that calculates the sum of all the lexicon ratings\n",
    "# normalized between -1 (most extreme negative) and +1 (most extreme positive)."
   ]
  },
  {
   "cell_type": "code",
   "execution_count": 48,
   "metadata": {},
   "outputs": [
    {
     "name": "stdout",
     "output_type": "stream",
     "text": [
      "900\n",
      "900\n",
      "\n",
      "797\n",
      "332\n"
     ]
    }
   ],
   "source": [
    "# drop rows with no content\n",
    "\n",
    "df_a_sen = df_a.copy()\n",
    "df_b_sen = df_b.copy()\n",
    "\n",
    "print(len(df_a_sen))\n",
    "print(len(df_b_sen))\n",
    "print('')\n",
    "\n",
    "df_a_sen['selftext'].replace('',np.nan,inplace=True)\n",
    "df_b_sen['selftext'].replace('',np.nan,inplace=True)\n",
    "\n",
    "df_a_sen.dropna(subset=['selftext'],inplace=True)\n",
    "df_b_sen.dropna(subset=['selftext'],inplace=True)\n",
    "\n",
    "print(len(df_a_sen))\n",
    "print(len(df_b_sen))"
   ]
  },
  {
   "cell_type": "code",
   "execution_count": 49,
   "metadata": {},
   "outputs": [],
   "source": [
    "# store sentiment scores in df_a_sen\n",
    "\n",
    "cols = ['neg','neu','pos','compound']\n",
    "for col in cols:\n",
    "    df_a_sen[col] = 0.0\n",
    "\n",
    "for idx,row in df_a_sen.iterrows():\n",
    "    \n",
    "    doc = nlp(row['selftext'])\n",
    "    polar_score = doc._.polarity_scores\n",
    "\n",
    "    df_a_sen.at[idx,'neg'] = polar_score['neg']\n",
    "    df_a_sen.at[idx,'neu'] = polar_score['neu']\n",
    "    df_a_sen.at[idx,'pos'] = polar_score['pos']\n",
    "    df_a_sen.at[idx,'compound'] = polar_score['compound']"
   ]
  },
  {
   "cell_type": "code",
   "execution_count": 50,
   "metadata": {},
   "outputs": [],
   "source": [
    "# store sentiment scores in df_b_sen\n",
    "\n",
    "cols = ['neg','neu','pos','compound']\n",
    "for col in cols:\n",
    "    df_b_sen[col] = 0.0\n",
    "\n",
    "for idx,row in df_b_sen.iterrows():\n",
    "    \n",
    "    doc = nlp(row['selftext'])\n",
    "    polar_score = doc._.polarity_scores\n",
    "\n",
    "    df_b_sen.at[idx,'neg'] = polar_score['neg']\n",
    "    df_b_sen.at[idx,'neu'] = polar_score['neu']\n",
    "    df_b_sen.at[idx,'pos'] = polar_score['pos']\n",
    "    df_b_sen.at[idx,'compound'] = polar_score['compound']"
   ]
  },
  {
   "cell_type": "code",
   "execution_count": 51,
   "metadata": {},
   "outputs": [
    {
     "data": {
      "text/html": [
       "<div>\n",
       "<style scoped>\n",
       "    .dataframe tbody tr th:only-of-type {\n",
       "        vertical-align: middle;\n",
       "    }\n",
       "\n",
       "    .dataframe tbody tr th {\n",
       "        vertical-align: top;\n",
       "    }\n",
       "\n",
       "    .dataframe thead th {\n",
       "        text-align: right;\n",
       "    }\n",
       "</style>\n",
       "<table border=\"1\" class=\"dataframe\">\n",
       "  <thead>\n",
       "    <tr style=\"text-align: right;\">\n",
       "      <th></th>\n",
       "      <th>name</th>\n",
       "      <th>title</th>\n",
       "      <th>score</th>\n",
       "      <th>selftext</th>\n",
       "      <th>neg</th>\n",
       "      <th>neu</th>\n",
       "      <th>pos</th>\n",
       "      <th>compound</th>\n",
       "    </tr>\n",
       "  </thead>\n",
       "  <tbody>\n",
       "    <tr>\n",
       "      <th>0</th>\n",
       "      <td>t3_ccwwo2</td>\n",
       "      <td>what player mat look like after lamination</td>\n",
       "      <td>12</td>\n",
       "      <td>searched this sub and google for image of the ...</td>\n",
       "      <td>0.034</td>\n",
       "      <td>0.816</td>\n",
       "      <td>0.150</td>\n",
       "      <td>0.9052</td>\n",
       "    </tr>\n",
       "    <tr>\n",
       "      <th>1</th>\n",
       "      <td>t3_ccppxz</td>\n",
       "      <td>anyone playing in downtown toronto?</td>\n",
       "      <td>69</td>\n",
       "      <td>i've built up a small game collection lately -...</td>\n",
       "      <td>0.044</td>\n",
       "      <td>0.905</td>\n",
       "      <td>0.051</td>\n",
       "      <td>0.0747</td>\n",
       "    </tr>\n",
       "    <tr>\n",
       "      <th>3</th>\n",
       "      <td>t3_ccwwjl</td>\n",
       "      <td>pandemic legacy s1 *september spoilers*</td>\n",
       "      <td>8</td>\n",
       "      <td>just want to make sure cause this seems weird....</td>\n",
       "      <td>0.124</td>\n",
       "      <td>0.798</td>\n",
       "      <td>0.078</td>\n",
       "      <td>-0.3151</td>\n",
       "    </tr>\n",
       "    <tr>\n",
       "      <th>4</th>\n",
       "      <td>t3_cctvi9</td>\n",
       "      <td>rumbleslam is the best game i almost never hea...</td>\n",
       "      <td>17</td>\n",
       "      <td>80's and 90's wrestling reference really shine...</td>\n",
       "      <td>0.000</td>\n",
       "      <td>0.768</td>\n",
       "      <td>0.232</td>\n",
       "      <td>0.9244</td>\n",
       "    </tr>\n",
       "    <tr>\n",
       "      <th>5</th>\n",
       "      <td>t3_ccvrtl</td>\n",
       "      <td>about to play eldritch horror for the first ti...</td>\n",
       "      <td>11</td>\n",
       "      <td>i'm buying eldritch horror tonight and i'm hop...</td>\n",
       "      <td>0.103</td>\n",
       "      <td>0.586</td>\n",
       "      <td>0.310</td>\n",
       "      <td>0.9183</td>\n",
       "    </tr>\n",
       "  </tbody>\n",
       "</table>\n",
       "</div>"
      ],
      "text/plain": [
       "        name                                              title score  \\\n",
       "0  t3_ccwwo2         what player mat look like after lamination    12   \n",
       "1  t3_ccppxz                anyone playing in downtown toronto?    69   \n",
       "3  t3_ccwwjl            pandemic legacy s1 *september spoilers*     8   \n",
       "4  t3_cctvi9  rumbleslam is the best game i almost never hea...    17   \n",
       "5  t3_ccvrtl  about to play eldritch horror for the first ti...    11   \n",
       "\n",
       "                                            selftext    neg    neu    pos  \\\n",
       "0  searched this sub and google for image of the ...  0.034  0.816  0.150   \n",
       "1  i've built up a small game collection lately -...  0.044  0.905  0.051   \n",
       "3  just want to make sure cause this seems weird....  0.124  0.798  0.078   \n",
       "4  80's and 90's wrestling reference really shine...  0.000  0.768  0.232   \n",
       "5  i'm buying eldritch horror tonight and i'm hop...  0.103  0.586  0.310   \n",
       "\n",
       "   compound  \n",
       "0    0.9052  \n",
       "1    0.0747  \n",
       "3   -0.3151  \n",
       "4    0.9244  \n",
       "5    0.9183  "
      ]
     },
     "execution_count": 51,
     "metadata": {},
     "output_type": "execute_result"
    }
   ],
   "source": [
    "df_a_sen.head()"
   ]
  },
  {
   "cell_type": "code",
   "execution_count": 52,
   "metadata": {},
   "outputs": [
    {
     "data": {
      "text/html": [
       "<div>\n",
       "<style scoped>\n",
       "    .dataframe tbody tr th:only-of-type {\n",
       "        vertical-align: middle;\n",
       "    }\n",
       "\n",
       "    .dataframe tbody tr th {\n",
       "        vertical-align: top;\n",
       "    }\n",
       "\n",
       "    .dataframe thead th {\n",
       "        text-align: right;\n",
       "    }\n",
       "</style>\n",
       "<table border=\"1\" class=\"dataframe\">\n",
       "  <thead>\n",
       "    <tr style=\"text-align: right;\">\n",
       "      <th></th>\n",
       "      <th>name</th>\n",
       "      <th>title</th>\n",
       "      <th>score</th>\n",
       "      <th>selftext</th>\n",
       "      <th>neg</th>\n",
       "      <th>neu</th>\n",
       "      <th>pos</th>\n",
       "      <th>compound</th>\n",
       "    </tr>\n",
       "  </thead>\n",
       "  <tbody>\n",
       "    <tr>\n",
       "      <th>0</th>\n",
       "      <td>t3_bbdq7o</td>\n",
       "      <td>age of z, recruiting</td>\n",
       "      <td>1</td>\n",
       "      <td>i'm looking for player who play the game age o...</td>\n",
       "      <td>0.000</td>\n",
       "      <td>0.765</td>\n",
       "      <td>0.235</td>\n",
       "      <td>0.5574</td>\n",
       "    </tr>\n",
       "    <tr>\n",
       "      <th>1</th>\n",
       "      <td>t3_bbb1np</td>\n",
       "      <td>there wa a java game...</td>\n",
       "      <td>1</td>\n",
       "      <td>i remember playing an old game on my nokia, ab...</td>\n",
       "      <td>0.000</td>\n",
       "      <td>0.848</td>\n",
       "      <td>0.152</td>\n",
       "      <td>0.6124</td>\n",
       "    </tr>\n",
       "    <tr>\n",
       "      <th>2</th>\n",
       "      <td>t3_bb4yj9</td>\n",
       "      <td>mmorpg?</td>\n",
       "      <td>1</td>\n",
       "      <td>hi guys! can you suggest some mobile mmorpg? s...</td>\n",
       "      <td>0.000</td>\n",
       "      <td>0.544</td>\n",
       "      <td>0.456</td>\n",
       "      <td>0.9412</td>\n",
       "    </tr>\n",
       "    <tr>\n",
       "      <th>4</th>\n",
       "      <td>t3_baqg2e</td>\n",
       "      <td>searching for game to be transplanted from ste...</td>\n",
       "      <td>1</td>\n",
       "      <td>hi, i am a steam game player with more than 30...</td>\n",
       "      <td>0.000</td>\n",
       "      <td>0.774</td>\n",
       "      <td>0.226</td>\n",
       "      <td>0.9498</td>\n",
       "    </tr>\n",
       "    <tr>\n",
       "      <th>6</th>\n",
       "      <td>t3_bamstx</td>\n",
       "      <td>ww2-style boom beach?</td>\n",
       "      <td>2</td>\n",
       "      <td>anyone remember a game on the play store that ...</td>\n",
       "      <td>0.054</td>\n",
       "      <td>0.731</td>\n",
       "      <td>0.215</td>\n",
       "      <td>0.9023</td>\n",
       "    </tr>\n",
       "  </tbody>\n",
       "</table>\n",
       "</div>"
      ],
      "text/plain": [
       "        name                                              title score  \\\n",
       "0  t3_bbdq7o                               age of z, recruiting     1   \n",
       "1  t3_bbb1np                            there wa a java game...     1   \n",
       "2  t3_bb4yj9                                            mmorpg?     1   \n",
       "4  t3_baqg2e  searching for game to be transplanted from ste...     1   \n",
       "6  t3_bamstx                              ww2-style boom beach?     2   \n",
       "\n",
       "                                            selftext    neg    neu    pos  \\\n",
       "0  i'm looking for player who play the game age o...  0.000  0.765  0.235   \n",
       "1  i remember playing an old game on my nokia, ab...  0.000  0.848  0.152   \n",
       "2  hi guys! can you suggest some mobile mmorpg? s...  0.000  0.544  0.456   \n",
       "4  hi, i am a steam game player with more than 30...  0.000  0.774  0.226   \n",
       "6  anyone remember a game on the play store that ...  0.054  0.731  0.215   \n",
       "\n",
       "   compound  \n",
       "0    0.5574  \n",
       "1    0.6124  \n",
       "2    0.9412  \n",
       "4    0.9498  \n",
       "6    0.9023  "
      ]
     },
     "execution_count": 52,
     "metadata": {},
     "output_type": "execute_result"
    }
   ],
   "source": [
    "df_b_sen.head()"
   ]
  },
  {
   "cell_type": "code",
   "execution_count": 53,
   "metadata": {},
   "outputs": [
    {
     "name": "stdout",
     "output_type": "stream",
     "text": [
      "There are more posts with positive than negative sentiments.\n",
      "The highest reddit score for postive and negative sentiments are 1,700 and 550 respectively (approximated).\n"
     ]
    },
    {
     "data": {
      "image/png": "[encoded data removed]",
      "text/plain": [
       "<Figure size 1440x720 with 1 Axes>"
      ]
     },
     "metadata": {},
     "output_type": "display_data"
    }
   ],
   "source": [
    "plt.figure(figsize=(20,10))\n",
    "plt.title('Board Games: Score vs Compound (Sentiment Analysis)',fontsize=25)\n",
    "\n",
    "sns.set_style(\"whitegrid\")\n",
    "sns.scatterplot(data=df_a_sen,x='compound',y='score')\n",
    "\n",
    "plt.xlabel('compound',fontsize=20)\n",
    "plt.ylabel('score',fontsize=20)\n",
    "plt.tick_params(labelsize=15)\n",
    "\n",
    "print('There are more posts with positive than negative sentiments.')\n",
    "print('The highest reddit score for postive and negative sentiments are 1,700 and 550 respectively (approximated).')"
   ]
  },
  {
   "cell_type": "code",
   "execution_count": 54,
   "metadata": {},
   "outputs": [
    {
     "name": "stdout",
     "output_type": "stream",
     "text": [
      "No obvious trends between reddit scores and postive/negative sentiments.\n",
      "The Mobile Game Subreddit has much lower average reddit scores compared to Board Game Subreddit.\n",
      "Likely due to much lower membership for Mobile Game Subreddit.\n",
      "Board Game Subbreddit has 75 times more members than Mobile Game Subreddit.\n"
     ]
    },
    {
     "data": {
      "image/png": "[encoded data removed]",
      "text/plain": [
       "<Figure size 1440x720 with 1 Axes>"
      ]
     },
     "metadata": {},
     "output_type": "display_data"
    }
   ],
   "source": [
    "plt.figure(figsize=(20,10))\n",
    "plt.title('Mobile Games: Score vs Compound (Sentiment Analysis)',fontsize=25)\n",
    "\n",
    "sns.set_style(\"whitegrid\")\n",
    "sns.scatterplot(data=df_b_sen,x='compound',y='score')\n",
    "\n",
    "plt.xlabel('compound',fontsize=20)\n",
    "plt.ylabel('score',fontsize=20)\n",
    "plt.tick_params(labelsize=15)\n",
    "\n",
    "print('No obvious trends between reddit scores and postive/negative sentiments.')\n",
    "print('The Mobile Game Subreddit has much lower average reddit scores compared to Board Game Subreddit.')\n",
    "print('Likely due to much lower membership for Mobile Game Subreddit.')\n",
    "print('Board Game Subbreddit has 75 times more members than Mobile Game Subreddit.')"
   ]
  },
  {
   "cell_type": "code",
   "execution_count": 55,
   "metadata": {},
   "outputs": [],
   "source": [
    "# create bins to plot histogram later\n",
    "\n",
    "bins = np.arange(-1,1.1,0.25)\n",
    "df_a_sen['binned'] = pd.cut(df_a_sen['compound'], bins=bins)\n",
    "\n",
    "df_a_sen['score'] = df_a_sen['score'].astype(int)\n",
    "a_sen_bin = df_a_sen.groupby(df_a_sen['binned'])['score'].mean()\n",
    "df_a_sen_bin = pd.DataFrame(a_sen_bin)"
   ]
  },
  {
   "cell_type": "code",
   "execution_count": 56,
   "metadata": {},
   "outputs": [],
   "source": [
    "# create bins to plot histogram later\n",
    "\n",
    "df_b_sen['binned'] = pd.cut(df_b_sen['compound'], bins=bins)\n",
    "\n",
    "df_b_sen['score'] = df_b_sen['score'].astype(int)\n",
    "b_sen_bin = df_b_sen.groupby(df_b_sen['binned'])['score'].mean()\n",
    "df_b_sen_bin = pd.DataFrame(b_sen_bin)"
   ]
  },
  {
   "cell_type": "code",
   "execution_count": 57,
   "metadata": {},
   "outputs": [
    {
     "name": "stdout",
     "output_type": "stream",
     "text": [
      "no obvious trend observed for both postive (compount 0 to 1) and negative sentiments (compound -1.0 to 0)\n"
     ]
    },
    {
     "data": {
      "image/png": "[encoded data removed]",
      "text/plain": [
       "<Figure size 864x432 with 1 Axes>"
      ]
     },
     "metadata": {},
     "output_type": "display_data"
    }
   ],
   "source": [
    "plt.figure(figsize=(12,6))\n",
    "plt.title('Board Games: Average Score Histogram (Sentiment Analysis)',fontsize=20)\n",
    "\n",
    "sns.set_style(\"whitegrid\")\n",
    "sns.barplot(data=df_a_sen_bin,x=df_a_sen_bin.index,y=df_a_sen_bin['score'].values)\n",
    "\n",
    "plt.xlabel('compound',fontsize=20)\n",
    "plt.ylabel('average score',fontsize=20)\n",
    "plt.tick_params(labelsize=12)\n",
    "\n",
    "print('no obvious trend observed for both postive (compount 0 to 1) and negative sentiments (compound -1.0 to 0)')"
   ]
  },
  {
   "cell_type": "code",
   "execution_count": 58,
   "metadata": {},
   "outputs": [
    {
     "name": "stdout",
     "output_type": "stream",
     "text": [
      "Highest average score is 3.0 for negative sentiment. Observed for compound -0.5 to -0.25.\n",
      "Highest average score is 2.0 for positive sentiment. Observed for compound 0.0 to 0.25.\n",
      "The difference in average score (between negative and positive sentiment) is small i.e. difference of only 1.0.\n"
     ]
    },
    {
     "data": {
      "image/png": "[encoded data removed]",
      "text/plain": [
       "<Figure size 864x432 with 1 Axes>"
      ]
     },
     "metadata": {},
     "output_type": "display_data"
    }
   ],
   "source": [
    "plt.figure(figsize=(12,6))\n",
    "plt.title('Mobile Games: Average Score Histogram (Sentiment Analysis)',fontsize=20)\n",
    "\n",
    "sns.set_style(\"whitegrid\")\n",
    "sns.barplot(data=df_b_sen_bin,x=df_b_sen_bin.index,y=df_b_sen_bin['score'].values)\n",
    "\n",
    "plt.xlabel('compound',fontsize=20)\n",
    "plt.ylabel('average score',fontsize=20)\n",
    "plt.tick_params(labelsize=12)\n",
    "\n",
    "print('Highest average score is 3.0 for negative sentiment. Observed for compound -0.5 to -0.25.')\n",
    "print('Highest average score is 2.0 for positive sentiment. Observed for compound 0.0 to 0.25.')\n",
    "print('The difference in average score (between negative and positive sentiment) is small i.e. difference of only 1.0.')"
   ]
  },
  {
   "cell_type": "markdown",
   "metadata": {},
   "source": [
    "### Descriptive and Inferential Statistics"
   ]
  },
  {
   "cell_type": "code",
   "execution_count": 59,
   "metadata": {},
   "outputs": [],
   "source": [
    "df_top_a_cv = df_a_cv[list(set_a)]\n",
    "df_top_b_cv = df_b_cv[list(set_b)]\n",
    "\n",
    "# for each post, count number of occurances (from top words list)\n",
    "a_cv_has_top = df_top_a_cv.sum(axis=1)\n",
    "b_cv_has_top = df_top_b_cv.sum(axis=1)"
   ]
  },
  {
   "cell_type": "code",
   "execution_count": 60,
   "metadata": {},
   "outputs": [],
   "source": [
    "# create df_a_cv_has_top\n",
    "\n",
    "df_a_cv_has_top= a_cv_has_top.value_counts().to_frame()\n",
    "\n",
    "df_a_cv_has_top['occurances'] = df_a_cv_has_top.index\n",
    "\n",
    "df_a_cv_has_top.reset_index(drop=True, inplace=True)\n",
    "\n",
    "df_a_cv_has_top.rename(columns={0: \"num_posts\"},inplace=True)\n",
    "df_a_cv_has_top['freq'] = df_a_cv_has_top[\"num_posts\"] / len(df_a) * 100\n",
    "cols = ['occurances','num_posts','freq']\n",
    "df_a_cv_has_top = df_a_cv_has_top[cols]\n",
    "df_a_cv_has_top.sort_values(by='occurances',inplace=True)"
   ]
  },
  {
   "cell_type": "code",
   "execution_count": 61,
   "metadata": {},
   "outputs": [],
   "source": [
    "# create df_b_cv_has_top\n",
    "\n",
    "df_b_cv_has_top= b_cv_has_top.value_counts().to_frame()\n",
    "\n",
    "df_b_cv_has_top['occurances'] = df_b_cv_has_top.index\n",
    "\n",
    "df_b_cv_has_top.reset_index(drop=True, inplace=True)\n",
    "\n",
    "df_b_cv_has_top.rename(columns={0: \"num_posts\"},inplace=True)\n",
    "df_b_cv_has_top['freq'] = df_b_cv_has_top[\"num_posts\"] / len(df_b) * 100\n",
    "cols = ['occurances','num_posts','freq']\n",
    "df_b_cv_has_top = df_b_cv_has_top[cols]\n",
    "df_b_cv_has_top.sort_values(by='occurances',inplace=True)"
   ]
  },
  {
   "cell_type": "code",
   "execution_count": 62,
   "metadata": {},
   "outputs": [
    {
     "name": "stdout",
     "output_type": "stream",
     "text": [
      "The barplot shows 42% of all post titles does not contain any of the top 20 words.\n",
      "Interesting to note there is 7 occurances of top words in 2% of all post titles.\n"
     ]
    },
    {
     "data": {
      "image/png": "[encoded data removed]",
      "text/plain": [
       "<Figure size 1440x432 with 1 Axes>"
      ]
     },
     "metadata": {},
     "output_type": "display_data"
    }
   ],
   "source": [
    "plt.figure(figsize=(20,6))\n",
    "plt.title('Board Games: Occurances of Top Words Per Post',fontsize=25)\n",
    "\n",
    "sns.set_style(\"whitegrid\")\n",
    "\n",
    "sns.barplot(data=df_a_cv_has_top,x='occurances',y='freq')\n",
    "\n",
    "plt.xlabel('occurances',fontsize=20)\n",
    "plt.ylabel('frequency (%)',fontsize=20)\n",
    "plt.tick_params(labelsize=15)\n",
    "\n",
    "print('The barplot shows 42% of all post titles does not contain any of the top 20 words.')\n",
    "print('Interesting to note there is 7 occurances of top words in 2% of all post titles.')"
   ]
  },
  {
   "cell_type": "code",
   "execution_count": 63,
   "metadata": {},
   "outputs": [
    {
     "name": "stdout",
     "output_type": "stream",
     "text": [
      "73% of all post titles contain at least 1 occurance of top 20 words.\n",
      "Frequency and occurances (of top words per post) has negative correlations.\n",
      "A max of 8 occurances of top words per post title is observed.\n"
     ]
    },
    {
     "data": {
      "image/png": "[encoded data removed]",
      "text/plain": [
       "<Figure size 1440x432 with 1 Axes>"
      ]
     },
     "metadata": {},
     "output_type": "display_data"
    }
   ],
   "source": [
    "plt.figure(figsize=(20,6))\n",
    "plt.title('Mobile Games: Occurances of Top Words Per Post',fontsize=25)\n",
    "\n",
    "sns.set_style(\"whitegrid\")\n",
    "\n",
    "sns.barplot(data=df_b_cv_has_top,x='occurances',y='freq')\n",
    "\n",
    "plt.xlabel('occurances',fontsize=20)\n",
    "plt.ylabel('frequency (%)',fontsize=20)\n",
    "plt.tick_params(labelsize=15)\n",
    "\n",
    "print('73% of all post titles contain at least 1 occurance of top 20 words.')\n",
    "print('Frequency and occurances (of top words per post) has negative correlations.')\n",
    "print('A max of 8 occurances of top words per post title is observed.')"
   ]
  },
  {
   "cell_type": "code",
   "execution_count": 64,
   "metadata": {},
   "outputs": [
    {
     "name": "stdout",
     "output_type": "stream",
     "text": [
      "Print the titles with 8 occurances of top 20 words for Board Games.\n",
      "The 8 occurances were due to a daily posts in the Subreddit.\n",
      "----------------------------------------------------------------------------\n",
      "/r/boardgames daily discussion and game recommendation (july 14, 2019)\n",
      "/r/boardgames daily discussion and game recommendation (july 15, 2019)\n",
      "/r/boardgames daily discussion and game recommendation (july 16, 2019)\n",
      "/r/boardgames daily discussion and game recommendation (july 17, 2019)\n",
      "/r/boardgames daily discussion and game recommendation (july 18, 2019)\n",
      "/r/boardgames daily discussion and game recommendation (july 19, 2019)\n",
      "/r/boardgames daily discussion and game recommendation (july 01, 2019)\n",
      "/r/boardgames daily discussion and game recommendation (july 02, 2019)\n",
      "/r/boardgames daily discussion and game recommendation (july 03, 2019)\n",
      "/r/boardgames daily discussion and game recommendation (july 04, 2019)\n",
      "/r/boardgames daily discussion and game recommendation (july 05, 2019)\n",
      "/r/boardgames daily discussion and game recommendation (july 06, 2019)\n",
      "/r/boardgames daily discussion and game recommendation (july 07, 2019)\n",
      "/r/boardgames daily discussion and game recommendation (july 08, 2019)\n",
      "/r/boardgames daily discussion and game recommendation (july 09, 2019)\n",
      "/r/boardgames daily discussion and game recommendation (july 10, 2019)\n",
      "/r/boardgames daily discussion and game recommendation (july 11, 2019)\n",
      "/r/boardgames daily discussion and game recommendation (july 12, 2019)\n"
     ]
    }
   ],
   "source": [
    "mask_a_top = a_cv_has_top == a_cv_has_top.max()\n",
    "a_title = df_a[mask_a_top]['title']\n",
    "\n",
    "print('Print the titles with 8 occurances of top 20 words for Board Games.')\n",
    "print('The 8 occurances were due to a daily posts in the Subreddit.')\n",
    "print('----------------------------------------------------------------------------')\n",
    "\n",
    "for title in a_title:\n",
    "    print(title)"
   ]
  },
  {
   "cell_type": "code",
   "execution_count": 65,
   "metadata": {},
   "outputs": [
    {
     "name": "stdout",
     "output_type": "stream",
     "text": [
      "Print the titles with 8 occurances of top 20 words for Mobile Games.\n",
      "These posts have long titles but no particular trend is observed.\n",
      "----------------------------------------------------------------------------\n",
      "\n",
      "[android] looking for game that are a lot like game of sultans. good or bad i'll try any of them a long a it's like that type of game. so don't be afraid to send them!\n",
      "\n",
      "what is a good and fun mobile game that doesnt look like it made for a nine year old? sometimes i feel so stupid playing game like angry bird or temple run in the train. (still love the game though)\n"
     ]
    }
   ],
   "source": [
    "mask_a_top = b_cv_has_top == b_cv_has_top.max()\n",
    "b_title = df_b[mask_a_top]['title']\n",
    "\n",
    "print('Print the titles with 8 occurances of top 20 words for Mobile Games.')\n",
    "print('These posts have long titles but no particular trend is observed.')\n",
    "print('----------------------------------------------------------------------------')\n",
    "\n",
    "for title in b_title:\n",
    "    print('')\n",
    "    print(title)"
   ]
  },
  {
   "cell_type": "markdown",
   "metadata": {},
   "source": [
    "### Conclusion and Recommendations"
   ]
  },
  {
   "cell_type": "markdown",
   "metadata": {},
   "source": [
    "[Conclusion]\n",
    "\n",
    "- The best classification model (Naive Bayes Classifier using CountVectorizer) has a good prediction (i.e. predict using post title which subreddit a post came from) accuracy of 89%.\n",
    "- Sentimental Analysis (to find any correlation between post contents and reddit scores) was inconclusive.\n",
    "\n",
    "[Recommendations]\n",
    "\n",
    "- To enhance classification model by adding additonal features e.g. post contents.\n",
    "- To perform name entity recognition e.g. identifying existing boardgames with BoardGameGeek API (https://boardgamegeek.com/wiki/page/BGG_XML_API&redirectedfrom=XML_API)"
   ]
  }
 ],
 "metadata": {
  "kernelspec": {
   "display_name": "Python 3",
   "language": "python",
   "name": "python3"
  },
  "language_info": {
   "codemirror_mode": {
    "name": "ipython",
    "version": 3
   },
   "file_extension": ".py",
   "mimetype": "text/x-python",
   "name": "python",
   "nbconvert_exporter": "python",
   "pygments_lexer": "ipython3",
   "version": "3.7.3"
  }
 },
 "nbformat": 4,
 "nbformat_minor": 2
}
